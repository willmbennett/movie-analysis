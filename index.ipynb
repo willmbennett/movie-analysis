{
 "cells": [
  {
   "attachments": {},
   "cell_type": "markdown",
   "metadata": {},
   "source": [
    "# Movie Data Analysis Project \n",
    "\n",
    "##### Students: William Bennett, Alex Karadjov\n",
    "\n",
    "##### Instructor: David Elliot\n",
    "\n",
    "##### Active Project Dates: May 8th - 12th"
   ]
  },
  {
   "attachments": {},
   "cell_type": "markdown",
   "metadata": {},
   "source": [
    "<img src='images/movie-producer-1000x600.jpg' width=\"600\" height=\"400\">"
   ]
  },
  {
   "attachments": {},
   "cell_type": "markdown",
   "metadata": {},
   "source": [
    "\n",
    "## Business Understanding\n",
    "#### Business Question\n",
    "ACME corperation (made up company) has now seen all the other big companies creating original video content. Your companies board have _decided to create a new movie studio_, but they don’t know anything about _creating movies._ \n",
    "<br>\n",
    "\n",
    "<img src='images/gettyimages-1163726047-640x640.jpg' width = \"400\" height = \"250\">\n",
    "\n",
    "### Business Proposal\n",
    "We are _charged_ with exploring what types of films are currently doing the _**best at the box office**._\n",
    "<br>\n",
    "<br>\n",
    "We then _translate_ those findings into _undstandable and logistical_ formats \n",
    "<br>\n",
    "<br>\n",
    "All inorder to give _an insightful_ **conclusion** on what type of films are the _**best to be creating**._\n",
    "<br>\n",
    "\n",
    "##### The _best_  at the box office. \n",
    "What does **best** mean:\n",
    "- Money\n",
    "- Rating, won’t line pockets\n",
    "- Consistency\n"
   ]
  },
  {
   "attachments": {},
   "cell_type": "markdown",
   "metadata": {},
   "source": [
    "_**While keeping these points in mind**_\n",
    "<br>\n",
    "<br>\n",
    "We have decieded these **columns** below will be used directly to _aid us in determining our **business proposal**_**;**\n",
    "- Gross \n",
    "- Avgerage Rating \n",
    "- Number of Votes \n",
    "- Run Time Minutes\n",
    "- Region\n",
    "- Genre"
   ]
  },
  {
   "attachments": {},
   "cell_type": "markdown",
   "metadata": {},
   "source": [
    "#### Imports\n",
    "\n",
    "Importing necessary libraries;"
   ]
  },
  {
   "cell_type": "code",
   "execution_count": 191,
   "metadata": {},
   "outputs": [],
   "source": [
    "import pandas as pd\n",
    "import numpy as np # used to find correlation coefficient\n",
    "import sqlite3\n",
    "import seaborn as sns\n",
    "import matplotlib.pyplot as plt\n",
    "%matplotlib inline\n",
    "from statsmodels.stats.multicomp import pairwise_tukeyhsd # to compare multiple samples\n",
    "import statsmodels.api as sm # We use this to perform a linear regression"
   ]
  },
  {
   "cell_type": "code",
   "execution_count": 192,
   "metadata": {},
   "outputs": [],
   "source": [
    "# Set plotting style\n",
    "sns.set_style('darkgrid') # use darker mode\n",
    "sns.set_context('poster') # Make sure all seaborn plots are in poster mode\n"
   ]
  },
  {
   "attachments": {},
   "cell_type": "markdown",
   "metadata": {},
   "source": [
    "\n",
    "# Data Cleaning\n",
    "Our main focuses while cleaning will be;\n",
    "\n",
    "**Gross based;**\n",
    "\n",
    "* Remove non US dollar value column\n",
    "    - Change Null Values to -99999 to create visible outlier\n",
    "<br>\n",
    "<br>\n",
    "\n",
    "**Avgerage Rating based;**\n",
    "\n",
    "* Remove rows from the column avgeragerating if the column numvotes has a row with less than 30 votes\n",
    "    - drop null values for both columns\n",
    "<img src='OIP.jpg' width = \"100\" height = \"25\">\n",
    "\n",
    "**Genre based;**\n",
    "\n",
    "* Seperate multiple genre movies\n",
    "    - drop null values\n",
    "\n",
    "<br>\n",
    "\n",
    "**Run Time Minutes based;**\n",
    "\n",
    "* Handle outliers with long runtimes\n",
    "    - drop null values\n",
    "\n",
    "<br>\n",
    "\n",
    "**Null Values based;**\n",
    "\n",
    "* Drop and replace values that mean nothing based on significance for all significant data used\n",
    "    - Region, Studio, Year\n",
    "<img src='R.png' width = \"100\" height = \"25\">\n",
    "\n",
    "**Column Names based;**\n",
    "* Cleaning the names to the same format\n"
   ]
  },
  {
   "attachments": {},
   "cell_type": "markdown",
   "metadata": {},
   "source": [
    "## Ingesting Data"
   ]
  },
  {
   "attachments": {},
   "cell_type": "markdown",
   "metadata": {},
   "source": [
    "#### Creating DataFrames\n",
    "\n",
    "IMDB Movie Data Frame\n",
    "\n",
    "First we import the IMDB SQL database"
   ]
  },
  {
   "attachments": {},
   "cell_type": "markdown",
   "metadata": {},
   "source": [
    "![image](images/movie_data_erd.jpeg)"
   ]
  },
  {
   "cell_type": "code",
   "execution_count": 193,
   "metadata": {},
   "outputs": [],
   "source": [
    "# Switch these depending on your OS after you unzip the im.db folter\n",
    "conn = sqlite3.connect('zippedData/im.db') #Mac\n",
    "# conn = sqlite3.connect('zippedData/im.db/im.db') #PC"
   ]
  },
  {
   "attachments": {},
   "cell_type": "markdown",
   "metadata": {},
   "source": [
    "Viewing the Data Tables;"
   ]
  },
  {
   "cell_type": "code",
   "execution_count": 194,
   "metadata": {},
   "outputs": [
    {
     "data": {
      "text/html": [
       "<div>\n",
       "<style scoped>\n",
       "    .dataframe tbody tr th:only-of-type {\n",
       "        vertical-align: middle;\n",
       "    }\n",
       "\n",
       "    .dataframe tbody tr th {\n",
       "        vertical-align: top;\n",
       "    }\n",
       "\n",
       "    .dataframe thead th {\n",
       "        text-align: right;\n",
       "    }\n",
       "</style>\n",
       "<table border=\"1\" class=\"dataframe\">\n",
       "  <thead>\n",
       "    <tr style=\"text-align: right;\">\n",
       "      <th></th>\n",
       "      <th>type</th>\n",
       "      <th>name</th>\n",
       "      <th>tbl_name</th>\n",
       "      <th>rootpage</th>\n",
       "      <th>sql</th>\n",
       "    </tr>\n",
       "  </thead>\n",
       "  <tbody>\n",
       "    <tr>\n",
       "      <th>0</th>\n",
       "      <td>table</td>\n",
       "      <td>movie_basics</td>\n",
       "      <td>movie_basics</td>\n",
       "      <td>2</td>\n",
       "      <td>CREATE TABLE \"movie_basics\" (\\n\"movie_id\" TEXT...</td>\n",
       "    </tr>\n",
       "    <tr>\n",
       "      <th>1</th>\n",
       "      <td>table</td>\n",
       "      <td>directors</td>\n",
       "      <td>directors</td>\n",
       "      <td>3</td>\n",
       "      <td>CREATE TABLE \"directors\" (\\n\"movie_id\" TEXT,\\n...</td>\n",
       "    </tr>\n",
       "    <tr>\n",
       "      <th>2</th>\n",
       "      <td>table</td>\n",
       "      <td>known_for</td>\n",
       "      <td>known_for</td>\n",
       "      <td>4</td>\n",
       "      <td>CREATE TABLE \"known_for\" (\\n\"person_id\" TEXT,\\...</td>\n",
       "    </tr>\n",
       "    <tr>\n",
       "      <th>3</th>\n",
       "      <td>table</td>\n",
       "      <td>movie_akas</td>\n",
       "      <td>movie_akas</td>\n",
       "      <td>5</td>\n",
       "      <td>CREATE TABLE \"movie_akas\" (\\n\"movie_id\" TEXT,\\...</td>\n",
       "    </tr>\n",
       "    <tr>\n",
       "      <th>4</th>\n",
       "      <td>table</td>\n",
       "      <td>movie_ratings</td>\n",
       "      <td>movie_ratings</td>\n",
       "      <td>6</td>\n",
       "      <td>CREATE TABLE \"movie_ratings\" (\\n\"movie_id\" TEX...</td>\n",
       "    </tr>\n",
       "    <tr>\n",
       "      <th>5</th>\n",
       "      <td>table</td>\n",
       "      <td>persons</td>\n",
       "      <td>persons</td>\n",
       "      <td>7</td>\n",
       "      <td>CREATE TABLE \"persons\" (\\n\"person_id\" TEXT,\\n ...</td>\n",
       "    </tr>\n",
       "    <tr>\n",
       "      <th>6</th>\n",
       "      <td>table</td>\n",
       "      <td>principals</td>\n",
       "      <td>principals</td>\n",
       "      <td>8</td>\n",
       "      <td>CREATE TABLE \"principals\" (\\n\"movie_id\" TEXT,\\...</td>\n",
       "    </tr>\n",
       "    <tr>\n",
       "      <th>7</th>\n",
       "      <td>table</td>\n",
       "      <td>writers</td>\n",
       "      <td>writers</td>\n",
       "      <td>9</td>\n",
       "      <td>CREATE TABLE \"writers\" (\\n\"movie_id\" TEXT,\\n  ...</td>\n",
       "    </tr>\n",
       "  </tbody>\n",
       "</table>\n",
       "</div>"
      ],
      "text/plain": [
       "    type           name       tbl_name  rootpage  \\\n",
       "0  table   movie_basics   movie_basics         2   \n",
       "1  table      directors      directors         3   \n",
       "2  table      known_for      known_for         4   \n",
       "3  table     movie_akas     movie_akas         5   \n",
       "4  table  movie_ratings  movie_ratings         6   \n",
       "5  table        persons        persons         7   \n",
       "6  table     principals     principals         8   \n",
       "7  table        writers        writers         9   \n",
       "\n",
       "                                                 sql  \n",
       "0  CREATE TABLE \"movie_basics\" (\\n\"movie_id\" TEXT...  \n",
       "1  CREATE TABLE \"directors\" (\\n\"movie_id\" TEXT,\\n...  \n",
       "2  CREATE TABLE \"known_for\" (\\n\"person_id\" TEXT,\\...  \n",
       "3  CREATE TABLE \"movie_akas\" (\\n\"movie_id\" TEXT,\\...  \n",
       "4  CREATE TABLE \"movie_ratings\" (\\n\"movie_id\" TEX...  \n",
       "5  CREATE TABLE \"persons\" (\\n\"person_id\" TEXT,\\n ...  \n",
       "6  CREATE TABLE \"principals\" (\\n\"movie_id\" TEXT,\\...  \n",
       "7  CREATE TABLE \"writers\" (\\n\"movie_id\" TEXT,\\n  ...  "
      ]
     },
     "execution_count": 194,
     "metadata": {},
     "output_type": "execute_result"
    }
   ],
   "source": [
    "schema_df = pd.read_sql(\"\"\"\n",
    "\n",
    "SELECT *\n",
    "FROM sqlite_master\n",
    "\n",
    "\"\"\", conn)\n",
    "\n",
    "schema_df"
   ]
  },
  {
   "attachments": {},
   "cell_type": "markdown",
   "metadata": {},
   "source": [
    "Let's write some SQL to pull in the desired columns"
   ]
  },
  {
   "cell_type": "code",
   "execution_count": 195,
   "metadata": {},
   "outputs": [],
   "source": [
    "df_imdb = pd.read_sql(\"\"\"\n",
    "\n",
    "SELECT b.movie_id\n",
    "       ,b.primary_title\n",
    "       ,b.original_title\n",
    "       ,b.start_year\n",
    "       ,b.runtime_minutes\n",
    "       ,b.genres\n",
    "       ,r.averagerating\n",
    "       ,r.numvotes\n",
    "       ,a.region\n",
    "FROM movie_basics b\n",
    "join movie_ratings r on r.movie_id = b.movie_id\n",
    "left join movie_akas a on a.movie_id = b.movie_id \n",
    "\n",
    "\"\"\", conn)"
   ]
  },
  {
   "cell_type": "code",
   "execution_count": 196,
   "metadata": {
    "scrolled": false
   },
   "outputs": [
    {
     "data": {
      "text/html": [
       "<div>\n",
       "<style scoped>\n",
       "    .dataframe tbody tr th:only-of-type {\n",
       "        vertical-align: middle;\n",
       "    }\n",
       "\n",
       "    .dataframe tbody tr th {\n",
       "        vertical-align: top;\n",
       "    }\n",
       "\n",
       "    .dataframe thead th {\n",
       "        text-align: right;\n",
       "    }\n",
       "</style>\n",
       "<table border=\"1\" class=\"dataframe\">\n",
       "  <thead>\n",
       "    <tr style=\"text-align: right;\">\n",
       "      <th></th>\n",
       "      <th>movie_id</th>\n",
       "      <th>primary_title</th>\n",
       "      <th>original_title</th>\n",
       "      <th>start_year</th>\n",
       "      <th>runtime_minutes</th>\n",
       "      <th>genres</th>\n",
       "      <th>averagerating</th>\n",
       "      <th>numvotes</th>\n",
       "      <th>region</th>\n",
       "    </tr>\n",
       "  </thead>\n",
       "  <tbody>\n",
       "    <tr>\n",
       "      <th>0</th>\n",
       "      <td>tt0063540</td>\n",
       "      <td>Sunghursh</td>\n",
       "      <td>Sunghursh</td>\n",
       "      <td>2013</td>\n",
       "      <td>175.000</td>\n",
       "      <td>Action,Crime,Drama</td>\n",
       "      <td>7.000</td>\n",
       "      <td>77</td>\n",
       "      <td>None</td>\n",
       "    </tr>\n",
       "    <tr>\n",
       "      <th>1</th>\n",
       "      <td>tt0063540</td>\n",
       "      <td>Sunghursh</td>\n",
       "      <td>Sunghursh</td>\n",
       "      <td>2013</td>\n",
       "      <td>175.000</td>\n",
       "      <td>Action,Crime,Drama</td>\n",
       "      <td>7.000</td>\n",
       "      <td>77</td>\n",
       "      <td>IN</td>\n",
       "    </tr>\n",
       "    <tr>\n",
       "      <th>2</th>\n",
       "      <td>tt0063540</td>\n",
       "      <td>Sunghursh</td>\n",
       "      <td>Sunghursh</td>\n",
       "      <td>2013</td>\n",
       "      <td>175.000</td>\n",
       "      <td>Action,Crime,Drama</td>\n",
       "      <td>7.000</td>\n",
       "      <td>77</td>\n",
       "      <td>IN</td>\n",
       "    </tr>\n",
       "    <tr>\n",
       "      <th>3</th>\n",
       "      <td>tt0063540</td>\n",
       "      <td>Sunghursh</td>\n",
       "      <td>Sunghursh</td>\n",
       "      <td>2013</td>\n",
       "      <td>175.000</td>\n",
       "      <td>Action,Crime,Drama</td>\n",
       "      <td>7.000</td>\n",
       "      <td>77</td>\n",
       "      <td>IN</td>\n",
       "    </tr>\n",
       "    <tr>\n",
       "      <th>4</th>\n",
       "      <td>tt0063540</td>\n",
       "      <td>Sunghursh</td>\n",
       "      <td>Sunghursh</td>\n",
       "      <td>2013</td>\n",
       "      <td>175.000</td>\n",
       "      <td>Action,Crime,Drama</td>\n",
       "      <td>7.000</td>\n",
       "      <td>77</td>\n",
       "      <td>IN</td>\n",
       "    </tr>\n",
       "  </tbody>\n",
       "</table>\n",
       "</div>"
      ],
      "text/plain": [
       "    movie_id primary_title original_title  start_year  runtime_minutes  \\\n",
       "0  tt0063540     Sunghursh      Sunghursh        2013          175.000   \n",
       "1  tt0063540     Sunghursh      Sunghursh        2013          175.000   \n",
       "2  tt0063540     Sunghursh      Sunghursh        2013          175.000   \n",
       "3  tt0063540     Sunghursh      Sunghursh        2013          175.000   \n",
       "4  tt0063540     Sunghursh      Sunghursh        2013          175.000   \n",
       "\n",
       "               genres  averagerating  numvotes region  \n",
       "0  Action,Crime,Drama          7.000        77   None  \n",
       "1  Action,Crime,Drama          7.000        77     IN  \n",
       "2  Action,Crime,Drama          7.000        77     IN  \n",
       "3  Action,Crime,Drama          7.000        77     IN  \n",
       "4  Action,Crime,Drama          7.000        77     IN  "
      ]
     },
     "execution_count": 196,
     "metadata": {},
     "output_type": "execute_result"
    }
   ],
   "source": [
    "# Check the first 5 rows\n",
    "df_imdb.head()"
   ]
  },
  {
   "attachments": {},
   "cell_type": "markdown",
   "metadata": {},
   "source": [
    "The columns have some underscores so let's remove them"
   ]
  },
  {
   "cell_type": "code",
   "execution_count": 197,
   "metadata": {},
   "outputs": [],
   "source": [
    "# Renaming imdb columns\n",
    "df_imdb = df_imdb.rename(columns = dict(zip(df_imdb.columns, [c.replace(\"_\", \"\").strip() for c in df_imdb.columns])))"
   ]
  },
  {
   "attachments": {},
   "cell_type": "markdown",
   "metadata": {},
   "source": [
    "Let's see what we're working with for columns"
   ]
  },
  {
   "cell_type": "code",
   "execution_count": 198,
   "metadata": {
    "scrolled": true
   },
   "outputs": [
    {
     "name": "stdout",
     "output_type": "stream",
     "text": [
      "<class 'pandas.core.frame.DataFrame'>\n",
      "RangeIndex: 266085 entries, 0 to 266084\n",
      "Data columns (total 9 columns):\n",
      " #   Column          Non-Null Count   Dtype  \n",
      "---  ------          --------------   -----  \n",
      " 0   movieid         266085 non-null  object \n",
      " 1   primarytitle    266085 non-null  object \n",
      " 2   originaltitle   266085 non-null  object \n",
      " 3   startyear       266085 non-null  int64  \n",
      " 4   runtimeminutes  253959 non-null  float64\n",
      " 5   genres          264736 non-null  object \n",
      " 6   averagerating   266085 non-null  float64\n",
      " 7   numvotes        266085 non-null  int64  \n",
      " 8   region          218341 non-null  object \n",
      "dtypes: float64(2), int64(2), object(5)\n",
      "memory usage: 18.3+ MB\n"
     ]
    }
   ],
   "source": [
    "# Pull the column information\n",
    "df_imdb.info()"
   ]
  },
  {
   "attachments": {},
   "cell_type": "markdown",
   "metadata": {},
   "source": [
    "<br>\n",
    "Box Office Mojo Movie Data Frame\n",
    "<br>"
   ]
  },
  {
   "cell_type": "code",
   "execution_count": 199,
   "metadata": {},
   "outputs": [],
   "source": [
    "# Read in the zipped CSV\n",
    "df_mg = pd.read_csv('zippedData/bom.movie_gross.csv.gz')"
   ]
  },
  {
   "attachments": {},
   "cell_type": "markdown",
   "metadata": {},
   "source": [
    "Let's check the data in the Box Office Mojo csv"
   ]
  },
  {
   "cell_type": "code",
   "execution_count": 200,
   "metadata": {
    "scrolled": true
   },
   "outputs": [
    {
     "data": {
      "text/html": [
       "<div>\n",
       "<style scoped>\n",
       "    .dataframe tbody tr th:only-of-type {\n",
       "        vertical-align: middle;\n",
       "    }\n",
       "\n",
       "    .dataframe tbody tr th {\n",
       "        vertical-align: top;\n",
       "    }\n",
       "\n",
       "    .dataframe thead th {\n",
       "        text-align: right;\n",
       "    }\n",
       "</style>\n",
       "<table border=\"1\" class=\"dataframe\">\n",
       "  <thead>\n",
       "    <tr style=\"text-align: right;\">\n",
       "      <th></th>\n",
       "      <th>title</th>\n",
       "      <th>studio</th>\n",
       "      <th>domestic_gross</th>\n",
       "      <th>foreign_gross</th>\n",
       "      <th>year</th>\n",
       "    </tr>\n",
       "  </thead>\n",
       "  <tbody>\n",
       "    <tr>\n",
       "      <th>0</th>\n",
       "      <td>Toy Story 3</td>\n",
       "      <td>BV</td>\n",
       "      <td>415000000.000</td>\n",
       "      <td>652000000</td>\n",
       "      <td>2010</td>\n",
       "    </tr>\n",
       "    <tr>\n",
       "      <th>1</th>\n",
       "      <td>Alice in Wonderland (2010)</td>\n",
       "      <td>BV</td>\n",
       "      <td>334200000.000</td>\n",
       "      <td>691300000</td>\n",
       "      <td>2010</td>\n",
       "    </tr>\n",
       "    <tr>\n",
       "      <th>2</th>\n",
       "      <td>Harry Potter and the Deathly Hallows Part 1</td>\n",
       "      <td>WB</td>\n",
       "      <td>296000000.000</td>\n",
       "      <td>664300000</td>\n",
       "      <td>2010</td>\n",
       "    </tr>\n",
       "    <tr>\n",
       "      <th>3</th>\n",
       "      <td>Inception</td>\n",
       "      <td>WB</td>\n",
       "      <td>292600000.000</td>\n",
       "      <td>535700000</td>\n",
       "      <td>2010</td>\n",
       "    </tr>\n",
       "    <tr>\n",
       "      <th>4</th>\n",
       "      <td>Shrek Forever After</td>\n",
       "      <td>P/DW</td>\n",
       "      <td>238700000.000</td>\n",
       "      <td>513900000</td>\n",
       "      <td>2010</td>\n",
       "    </tr>\n",
       "  </tbody>\n",
       "</table>\n",
       "</div>"
      ],
      "text/plain": [
       "                                         title studio  domestic_gross  \\\n",
       "0                                  Toy Story 3     BV   415000000.000   \n",
       "1                   Alice in Wonderland (2010)     BV   334200000.000   \n",
       "2  Harry Potter and the Deathly Hallows Part 1     WB   296000000.000   \n",
       "3                                    Inception     WB   292600000.000   \n",
       "4                          Shrek Forever After   P/DW   238700000.000   \n",
       "\n",
       "  foreign_gross  year  \n",
       "0     652000000  2010  \n",
       "1     691300000  2010  \n",
       "2     664300000  2010  \n",
       "3     535700000  2010  \n",
       "4     513900000  2010  "
      ]
     },
     "execution_count": 200,
     "metadata": {},
     "output_type": "execute_result"
    }
   ],
   "source": [
    "# Head pulls the first five rows\n",
    "df_mg.head()"
   ]
  },
  {
   "attachments": {},
   "cell_type": "markdown",
   "metadata": {},
   "source": [
    "<br>\n",
    "Box Office Mojo Movie Gross Data Frame\n",
    "<br>\n",
    "- Cleaning the column names"
   ]
  },
  {
   "cell_type": "code",
   "execution_count": 201,
   "metadata": {},
   "outputs": [],
   "source": [
    "df_mg = df_mg.rename(columns = dict(zip(df_mg.columns, [c.replace(\"_\", \"\").strip() for c in df_mg.columns])))"
   ]
  },
  {
   "cell_type": "code",
   "execution_count": 202,
   "metadata": {},
   "outputs": [],
   "source": [
    "df_mg[['primarytitle', 'startyear']] = df_mg[['title', 'year']]"
   ]
  },
  {
   "cell_type": "code",
   "execution_count": 203,
   "metadata": {},
   "outputs": [
    {
     "data": {
      "text/html": [
       "<div>\n",
       "<style scoped>\n",
       "    .dataframe tbody tr th:only-of-type {\n",
       "        vertical-align: middle;\n",
       "    }\n",
       "\n",
       "    .dataframe tbody tr th {\n",
       "        vertical-align: top;\n",
       "    }\n",
       "\n",
       "    .dataframe thead th {\n",
       "        text-align: right;\n",
       "    }\n",
       "</style>\n",
       "<table border=\"1\" class=\"dataframe\">\n",
       "  <thead>\n",
       "    <tr style=\"text-align: right;\">\n",
       "      <th></th>\n",
       "      <th>title</th>\n",
       "      <th>studio</th>\n",
       "      <th>domesticgross</th>\n",
       "      <th>foreigngross</th>\n",
       "      <th>year</th>\n",
       "      <th>primarytitle</th>\n",
       "      <th>startyear</th>\n",
       "    </tr>\n",
       "  </thead>\n",
       "  <tbody>\n",
       "    <tr>\n",
       "      <th>0</th>\n",
       "      <td>Toy Story 3</td>\n",
       "      <td>BV</td>\n",
       "      <td>415000000.000</td>\n",
       "      <td>652000000</td>\n",
       "      <td>2010</td>\n",
       "      <td>Toy Story 3</td>\n",
       "      <td>2010</td>\n",
       "    </tr>\n",
       "    <tr>\n",
       "      <th>1</th>\n",
       "      <td>Alice in Wonderland (2010)</td>\n",
       "      <td>BV</td>\n",
       "      <td>334200000.000</td>\n",
       "      <td>691300000</td>\n",
       "      <td>2010</td>\n",
       "      <td>Alice in Wonderland (2010)</td>\n",
       "      <td>2010</td>\n",
       "    </tr>\n",
       "    <tr>\n",
       "      <th>2</th>\n",
       "      <td>Harry Potter and the Deathly Hallows Part 1</td>\n",
       "      <td>WB</td>\n",
       "      <td>296000000.000</td>\n",
       "      <td>664300000</td>\n",
       "      <td>2010</td>\n",
       "      <td>Harry Potter and the Deathly Hallows Part 1</td>\n",
       "      <td>2010</td>\n",
       "    </tr>\n",
       "    <tr>\n",
       "      <th>3</th>\n",
       "      <td>Inception</td>\n",
       "      <td>WB</td>\n",
       "      <td>292600000.000</td>\n",
       "      <td>535700000</td>\n",
       "      <td>2010</td>\n",
       "      <td>Inception</td>\n",
       "      <td>2010</td>\n",
       "    </tr>\n",
       "    <tr>\n",
       "      <th>4</th>\n",
       "      <td>Shrek Forever After</td>\n",
       "      <td>P/DW</td>\n",
       "      <td>238700000.000</td>\n",
       "      <td>513900000</td>\n",
       "      <td>2010</td>\n",
       "      <td>Shrek Forever After</td>\n",
       "      <td>2010</td>\n",
       "    </tr>\n",
       "  </tbody>\n",
       "</table>\n",
       "</div>"
      ],
      "text/plain": [
       "                                         title studio  domesticgross  \\\n",
       "0                                  Toy Story 3     BV  415000000.000   \n",
       "1                   Alice in Wonderland (2010)     BV  334200000.000   \n",
       "2  Harry Potter and the Deathly Hallows Part 1     WB  296000000.000   \n",
       "3                                    Inception     WB  292600000.000   \n",
       "4                          Shrek Forever After   P/DW  238700000.000   \n",
       "\n",
       "  foreigngross  year                                 primarytitle  startyear  \n",
       "0    652000000  2010                                  Toy Story 3       2010  \n",
       "1    691300000  2010                   Alice in Wonderland (2010)       2010  \n",
       "2    664300000  2010  Harry Potter and the Deathly Hallows Part 1       2010  \n",
       "3    535700000  2010                                    Inception       2010  \n",
       "4    513900000  2010                          Shrek Forever After       2010  "
      ]
     },
     "execution_count": 203,
     "metadata": {},
     "output_type": "execute_result"
    }
   ],
   "source": [
    "df_mg.head()"
   ]
  },
  {
   "cell_type": "code",
   "execution_count": 204,
   "metadata": {
    "scrolled": true
   },
   "outputs": [
    {
     "name": "stdout",
     "output_type": "stream",
     "text": [
      "<class 'pandas.core.frame.DataFrame'>\n",
      "RangeIndex: 3387 entries, 0 to 3386\n",
      "Data columns (total 7 columns):\n",
      " #   Column         Non-Null Count  Dtype  \n",
      "---  ------         --------------  -----  \n",
      " 0   title          3387 non-null   object \n",
      " 1   studio         3382 non-null   object \n",
      " 2   domesticgross  3359 non-null   float64\n",
      " 3   foreigngross   2037 non-null   object \n",
      " 4   year           3387 non-null   int64  \n",
      " 5   primarytitle   3387 non-null   object \n",
      " 6   startyear      3387 non-null   int64  \n",
      "dtypes: float64(1), int64(2), object(4)\n",
      "memory usage: 185.4+ KB\n"
     ]
    }
   ],
   "source": [
    "df_mg.info()"
   ]
  },
  {
   "attachments": {},
   "cell_type": "markdown",
   "metadata": {},
   "source": [
    "#### Creating a Final Data Frame by Combining the Two Data sets \n",
    "Final Data Cleaning"
   ]
  },
  {
   "cell_type": "code",
   "execution_count": 205,
   "metadata": {},
   "outputs": [],
   "source": [
    "df_clean = df_imdb"
   ]
  },
  {
   "cell_type": "code",
   "execution_count": 206,
   "metadata": {},
   "outputs": [
    {
     "data": {
      "text/html": [
       "<div>\n",
       "<style scoped>\n",
       "    .dataframe tbody tr th:only-of-type {\n",
       "        vertical-align: middle;\n",
       "    }\n",
       "\n",
       "    .dataframe tbody tr th {\n",
       "        vertical-align: top;\n",
       "    }\n",
       "\n",
       "    .dataframe thead th {\n",
       "        text-align: right;\n",
       "    }\n",
       "</style>\n",
       "<table border=\"1\" class=\"dataframe\">\n",
       "  <thead>\n",
       "    <tr style=\"text-align: right;\">\n",
       "      <th></th>\n",
       "      <th>movieid</th>\n",
       "      <th>primarytitle</th>\n",
       "      <th>originaltitle</th>\n",
       "      <th>startyear</th>\n",
       "      <th>runtimeminutes</th>\n",
       "      <th>genres</th>\n",
       "      <th>averagerating</th>\n",
       "      <th>numvotes</th>\n",
       "      <th>region</th>\n",
       "    </tr>\n",
       "  </thead>\n",
       "  <tbody>\n",
       "    <tr>\n",
       "      <th>0</th>\n",
       "      <td>tt0063540</td>\n",
       "      <td>Sunghursh</td>\n",
       "      <td>Sunghursh</td>\n",
       "      <td>2013</td>\n",
       "      <td>175.000</td>\n",
       "      <td>Action,Crime,Drama</td>\n",
       "      <td>7.000</td>\n",
       "      <td>77</td>\n",
       "      <td>None</td>\n",
       "    </tr>\n",
       "    <tr>\n",
       "      <th>1</th>\n",
       "      <td>tt0063540</td>\n",
       "      <td>Sunghursh</td>\n",
       "      <td>Sunghursh</td>\n",
       "      <td>2013</td>\n",
       "      <td>175.000</td>\n",
       "      <td>Action,Crime,Drama</td>\n",
       "      <td>7.000</td>\n",
       "      <td>77</td>\n",
       "      <td>IN</td>\n",
       "    </tr>\n",
       "    <tr>\n",
       "      <th>2</th>\n",
       "      <td>tt0063540</td>\n",
       "      <td>Sunghursh</td>\n",
       "      <td>Sunghursh</td>\n",
       "      <td>2013</td>\n",
       "      <td>175.000</td>\n",
       "      <td>Action,Crime,Drama</td>\n",
       "      <td>7.000</td>\n",
       "      <td>77</td>\n",
       "      <td>IN</td>\n",
       "    </tr>\n",
       "    <tr>\n",
       "      <th>3</th>\n",
       "      <td>tt0063540</td>\n",
       "      <td>Sunghursh</td>\n",
       "      <td>Sunghursh</td>\n",
       "      <td>2013</td>\n",
       "      <td>175.000</td>\n",
       "      <td>Action,Crime,Drama</td>\n",
       "      <td>7.000</td>\n",
       "      <td>77</td>\n",
       "      <td>IN</td>\n",
       "    </tr>\n",
       "    <tr>\n",
       "      <th>4</th>\n",
       "      <td>tt0063540</td>\n",
       "      <td>Sunghursh</td>\n",
       "      <td>Sunghursh</td>\n",
       "      <td>2013</td>\n",
       "      <td>175.000</td>\n",
       "      <td>Action,Crime,Drama</td>\n",
       "      <td>7.000</td>\n",
       "      <td>77</td>\n",
       "      <td>IN</td>\n",
       "    </tr>\n",
       "  </tbody>\n",
       "</table>\n",
       "</div>"
      ],
      "text/plain": [
       "     movieid primarytitle originaltitle  startyear  runtimeminutes  \\\n",
       "0  tt0063540    Sunghursh     Sunghursh       2013         175.000   \n",
       "1  tt0063540    Sunghursh     Sunghursh       2013         175.000   \n",
       "2  tt0063540    Sunghursh     Sunghursh       2013         175.000   \n",
       "3  tt0063540    Sunghursh     Sunghursh       2013         175.000   \n",
       "4  tt0063540    Sunghursh     Sunghursh       2013         175.000   \n",
       "\n",
       "               genres  averagerating  numvotes region  \n",
       "0  Action,Crime,Drama          7.000        77   None  \n",
       "1  Action,Crime,Drama          7.000        77     IN  \n",
       "2  Action,Crime,Drama          7.000        77     IN  \n",
       "3  Action,Crime,Drama          7.000        77     IN  \n",
       "4  Action,Crime,Drama          7.000        77     IN  "
      ]
     },
     "execution_count": 206,
     "metadata": {},
     "output_type": "execute_result"
    }
   ],
   "source": [
    "df_clean.head()"
   ]
  },
  {
   "cell_type": "code",
   "execution_count": 207,
   "metadata": {},
   "outputs": [],
   "source": [
    "# combining the two datasets into a new dataframe\n",
    "df_clean = pd.merge(df_clean, df_mg, how='left', on=['primarytitle','startyear'])"
   ]
  },
  {
   "cell_type": "code",
   "execution_count": 208,
   "metadata": {
    "scrolled": true
   },
   "outputs": [
    {
     "data": {
      "text/html": [
       "<div>\n",
       "<style scoped>\n",
       "    .dataframe tbody tr th:only-of-type {\n",
       "        vertical-align: middle;\n",
       "    }\n",
       "\n",
       "    .dataframe tbody tr th {\n",
       "        vertical-align: top;\n",
       "    }\n",
       "\n",
       "    .dataframe thead th {\n",
       "        text-align: right;\n",
       "    }\n",
       "</style>\n",
       "<table border=\"1\" class=\"dataframe\">\n",
       "  <thead>\n",
       "    <tr style=\"text-align: right;\">\n",
       "      <th></th>\n",
       "      <th>movieid</th>\n",
       "      <th>primarytitle</th>\n",
       "      <th>originaltitle</th>\n",
       "      <th>startyear</th>\n",
       "      <th>runtimeminutes</th>\n",
       "      <th>genres</th>\n",
       "      <th>averagerating</th>\n",
       "      <th>numvotes</th>\n",
       "      <th>region</th>\n",
       "      <th>title</th>\n",
       "      <th>studio</th>\n",
       "      <th>domesticgross</th>\n",
       "      <th>foreigngross</th>\n",
       "      <th>year</th>\n",
       "    </tr>\n",
       "  </thead>\n",
       "  <tbody>\n",
       "    <tr>\n",
       "      <th>0</th>\n",
       "      <td>tt0063540</td>\n",
       "      <td>Sunghursh</td>\n",
       "      <td>Sunghursh</td>\n",
       "      <td>2013</td>\n",
       "      <td>175.000</td>\n",
       "      <td>Action,Crime,Drama</td>\n",
       "      <td>7.000</td>\n",
       "      <td>77</td>\n",
       "      <td>None</td>\n",
       "      <td>NaN</td>\n",
       "      <td>NaN</td>\n",
       "      <td>nan</td>\n",
       "      <td>NaN</td>\n",
       "      <td>nan</td>\n",
       "    </tr>\n",
       "    <tr>\n",
       "      <th>1</th>\n",
       "      <td>tt0063540</td>\n",
       "      <td>Sunghursh</td>\n",
       "      <td>Sunghursh</td>\n",
       "      <td>2013</td>\n",
       "      <td>175.000</td>\n",
       "      <td>Action,Crime,Drama</td>\n",
       "      <td>7.000</td>\n",
       "      <td>77</td>\n",
       "      <td>IN</td>\n",
       "      <td>NaN</td>\n",
       "      <td>NaN</td>\n",
       "      <td>nan</td>\n",
       "      <td>NaN</td>\n",
       "      <td>nan</td>\n",
       "    </tr>\n",
       "    <tr>\n",
       "      <th>2</th>\n",
       "      <td>tt0063540</td>\n",
       "      <td>Sunghursh</td>\n",
       "      <td>Sunghursh</td>\n",
       "      <td>2013</td>\n",
       "      <td>175.000</td>\n",
       "      <td>Action,Crime,Drama</td>\n",
       "      <td>7.000</td>\n",
       "      <td>77</td>\n",
       "      <td>IN</td>\n",
       "      <td>NaN</td>\n",
       "      <td>NaN</td>\n",
       "      <td>nan</td>\n",
       "      <td>NaN</td>\n",
       "      <td>nan</td>\n",
       "    </tr>\n",
       "    <tr>\n",
       "      <th>3</th>\n",
       "      <td>tt0063540</td>\n",
       "      <td>Sunghursh</td>\n",
       "      <td>Sunghursh</td>\n",
       "      <td>2013</td>\n",
       "      <td>175.000</td>\n",
       "      <td>Action,Crime,Drama</td>\n",
       "      <td>7.000</td>\n",
       "      <td>77</td>\n",
       "      <td>IN</td>\n",
       "      <td>NaN</td>\n",
       "      <td>NaN</td>\n",
       "      <td>nan</td>\n",
       "      <td>NaN</td>\n",
       "      <td>nan</td>\n",
       "    </tr>\n",
       "    <tr>\n",
       "      <th>4</th>\n",
       "      <td>tt0063540</td>\n",
       "      <td>Sunghursh</td>\n",
       "      <td>Sunghursh</td>\n",
       "      <td>2013</td>\n",
       "      <td>175.000</td>\n",
       "      <td>Action,Crime,Drama</td>\n",
       "      <td>7.000</td>\n",
       "      <td>77</td>\n",
       "      <td>IN</td>\n",
       "      <td>NaN</td>\n",
       "      <td>NaN</td>\n",
       "      <td>nan</td>\n",
       "      <td>NaN</td>\n",
       "      <td>nan</td>\n",
       "    </tr>\n",
       "  </tbody>\n",
       "</table>\n",
       "</div>"
      ],
      "text/plain": [
       "     movieid primarytitle originaltitle  startyear  runtimeminutes  \\\n",
       "0  tt0063540    Sunghursh     Sunghursh       2013         175.000   \n",
       "1  tt0063540    Sunghursh     Sunghursh       2013         175.000   \n",
       "2  tt0063540    Sunghursh     Sunghursh       2013         175.000   \n",
       "3  tt0063540    Sunghursh     Sunghursh       2013         175.000   \n",
       "4  tt0063540    Sunghursh     Sunghursh       2013         175.000   \n",
       "\n",
       "               genres  averagerating  numvotes region title studio  \\\n",
       "0  Action,Crime,Drama          7.000        77   None   NaN    NaN   \n",
       "1  Action,Crime,Drama          7.000        77     IN   NaN    NaN   \n",
       "2  Action,Crime,Drama          7.000        77     IN   NaN    NaN   \n",
       "3  Action,Crime,Drama          7.000        77     IN   NaN    NaN   \n",
       "4  Action,Crime,Drama          7.000        77     IN   NaN    NaN   \n",
       "\n",
       "   domesticgross foreigngross  year  \n",
       "0            nan          NaN   nan  \n",
       "1            nan          NaN   nan  \n",
       "2            nan          NaN   nan  \n",
       "3            nan          NaN   nan  \n",
       "4            nan          NaN   nan  "
      ]
     },
     "execution_count": 208,
     "metadata": {},
     "output_type": "execute_result"
    }
   ],
   "source": [
    "df_clean.head()"
   ]
  },
  {
   "attachments": {},
   "cell_type": "markdown",
   "metadata": {},
   "source": [
    "Let's remove unneeded columns from the combined dataset"
   ]
  },
  {
   "cell_type": "code",
   "execution_count": 209,
   "metadata": {},
   "outputs": [],
   "source": [
    "df_clean.drop(['originaltitle', 'title', 'year', 'studio'], axis=1, inplace=True)"
   ]
  },
  {
   "cell_type": "code",
   "execution_count": 210,
   "metadata": {},
   "outputs": [
    {
     "data": {
      "text/html": [
       "<div>\n",
       "<style scoped>\n",
       "    .dataframe tbody tr th:only-of-type {\n",
       "        vertical-align: middle;\n",
       "    }\n",
       "\n",
       "    .dataframe tbody tr th {\n",
       "        vertical-align: top;\n",
       "    }\n",
       "\n",
       "    .dataframe thead th {\n",
       "        text-align: right;\n",
       "    }\n",
       "</style>\n",
       "<table border=\"1\" class=\"dataframe\">\n",
       "  <thead>\n",
       "    <tr style=\"text-align: right;\">\n",
       "      <th></th>\n",
       "      <th>movieid</th>\n",
       "      <th>primarytitle</th>\n",
       "      <th>startyear</th>\n",
       "      <th>runtimeminutes</th>\n",
       "      <th>genres</th>\n",
       "      <th>averagerating</th>\n",
       "      <th>numvotes</th>\n",
       "      <th>region</th>\n",
       "      <th>domesticgross</th>\n",
       "      <th>foreigngross</th>\n",
       "    </tr>\n",
       "  </thead>\n",
       "  <tbody>\n",
       "    <tr>\n",
       "      <th>0</th>\n",
       "      <td>tt0063540</td>\n",
       "      <td>Sunghursh</td>\n",
       "      <td>2013</td>\n",
       "      <td>175.000</td>\n",
       "      <td>Action,Crime,Drama</td>\n",
       "      <td>7.000</td>\n",
       "      <td>77</td>\n",
       "      <td>None</td>\n",
       "      <td>nan</td>\n",
       "      <td>NaN</td>\n",
       "    </tr>\n",
       "    <tr>\n",
       "      <th>1</th>\n",
       "      <td>tt0063540</td>\n",
       "      <td>Sunghursh</td>\n",
       "      <td>2013</td>\n",
       "      <td>175.000</td>\n",
       "      <td>Action,Crime,Drama</td>\n",
       "      <td>7.000</td>\n",
       "      <td>77</td>\n",
       "      <td>IN</td>\n",
       "      <td>nan</td>\n",
       "      <td>NaN</td>\n",
       "    </tr>\n",
       "    <tr>\n",
       "      <th>2</th>\n",
       "      <td>tt0063540</td>\n",
       "      <td>Sunghursh</td>\n",
       "      <td>2013</td>\n",
       "      <td>175.000</td>\n",
       "      <td>Action,Crime,Drama</td>\n",
       "      <td>7.000</td>\n",
       "      <td>77</td>\n",
       "      <td>IN</td>\n",
       "      <td>nan</td>\n",
       "      <td>NaN</td>\n",
       "    </tr>\n",
       "    <tr>\n",
       "      <th>3</th>\n",
       "      <td>tt0063540</td>\n",
       "      <td>Sunghursh</td>\n",
       "      <td>2013</td>\n",
       "      <td>175.000</td>\n",
       "      <td>Action,Crime,Drama</td>\n",
       "      <td>7.000</td>\n",
       "      <td>77</td>\n",
       "      <td>IN</td>\n",
       "      <td>nan</td>\n",
       "      <td>NaN</td>\n",
       "    </tr>\n",
       "    <tr>\n",
       "      <th>4</th>\n",
       "      <td>tt0063540</td>\n",
       "      <td>Sunghursh</td>\n",
       "      <td>2013</td>\n",
       "      <td>175.000</td>\n",
       "      <td>Action,Crime,Drama</td>\n",
       "      <td>7.000</td>\n",
       "      <td>77</td>\n",
       "      <td>IN</td>\n",
       "      <td>nan</td>\n",
       "      <td>NaN</td>\n",
       "    </tr>\n",
       "  </tbody>\n",
       "</table>\n",
       "</div>"
      ],
      "text/plain": [
       "     movieid primarytitle  startyear  runtimeminutes              genres  \\\n",
       "0  tt0063540    Sunghursh       2013         175.000  Action,Crime,Drama   \n",
       "1  tt0063540    Sunghursh       2013         175.000  Action,Crime,Drama   \n",
       "2  tt0063540    Sunghursh       2013         175.000  Action,Crime,Drama   \n",
       "3  tt0063540    Sunghursh       2013         175.000  Action,Crime,Drama   \n",
       "4  tt0063540    Sunghursh       2013         175.000  Action,Crime,Drama   \n",
       "\n",
       "   averagerating  numvotes region  domesticgross foreigngross  \n",
       "0          7.000        77   None            nan          NaN  \n",
       "1          7.000        77     IN            nan          NaN  \n",
       "2          7.000        77     IN            nan          NaN  \n",
       "3          7.000        77     IN            nan          NaN  \n",
       "4          7.000        77     IN            nan          NaN  "
      ]
     },
     "execution_count": 210,
     "metadata": {},
     "output_type": "execute_result"
    }
   ],
   "source": [
    "# confirm we've dropped the columns\n",
    "df_clean.head()"
   ]
  },
  {
   "attachments": {},
   "cell_type": "markdown",
   "metadata": {},
   "source": [
    "##### Region Cleaning\n",
    "Dropping null values;"
   ]
  },
  {
   "cell_type": "code",
   "execution_count": 211,
   "metadata": {},
   "outputs": [
    {
     "data": {
      "text/plain": [
       "47744"
      ]
     },
     "execution_count": 211,
     "metadata": {},
     "output_type": "execute_result"
    }
   ],
   "source": [
    "df_clean['region'].isnull().sum()"
   ]
  },
  {
   "cell_type": "code",
   "execution_count": 212,
   "metadata": {},
   "outputs": [],
   "source": [
    "df_clean = df_clean.dropna(subset=['region'])"
   ]
  },
  {
   "attachments": {},
   "cell_type": "markdown",
   "metadata": {},
   "source": [
    "<br>\n",
    "Checking;"
   ]
  },
  {
   "cell_type": "code",
   "execution_count": 213,
   "metadata": {},
   "outputs": [
    {
     "data": {
      "text/plain": [
       "0"
      ]
     },
     "execution_count": 213,
     "metadata": {},
     "output_type": "execute_result"
    }
   ],
   "source": [
    "df_clean['region'].isnull().sum()"
   ]
  },
  {
   "attachments": {},
   "cell_type": "markdown",
   "metadata": {},
   "source": [
    "\n",
    "##### Gross Cleaning\n",
    "Creating a new column for total_gross by combining the domesticgross column and foreigngross column;\n",
    "<br>"
   ]
  },
  {
   "cell_type": "code",
   "execution_count": 214,
   "metadata": {
    "scrolled": true
   },
   "outputs": [
    {
     "data": {
      "text/html": [
       "<div>\n",
       "<style scoped>\n",
       "    .dataframe tbody tr th:only-of-type {\n",
       "        vertical-align: middle;\n",
       "    }\n",
       "\n",
       "    .dataframe tbody tr th {\n",
       "        vertical-align: top;\n",
       "    }\n",
       "\n",
       "    .dataframe thead th {\n",
       "        text-align: right;\n",
       "    }\n",
       "</style>\n",
       "<table border=\"1\" class=\"dataframe\">\n",
       "  <thead>\n",
       "    <tr style=\"text-align: right;\">\n",
       "      <th></th>\n",
       "      <th>movieid</th>\n",
       "      <th>primarytitle</th>\n",
       "      <th>startyear</th>\n",
       "      <th>runtimeminutes</th>\n",
       "      <th>genres</th>\n",
       "      <th>averagerating</th>\n",
       "      <th>numvotes</th>\n",
       "      <th>region</th>\n",
       "      <th>domesticgross</th>\n",
       "      <th>foreigngross</th>\n",
       "      <th>totalgross</th>\n",
       "    </tr>\n",
       "  </thead>\n",
       "  <tbody>\n",
       "    <tr>\n",
       "      <th>1</th>\n",
       "      <td>tt0063540</td>\n",
       "      <td>Sunghursh</td>\n",
       "      <td>2013</td>\n",
       "      <td>175.000</td>\n",
       "      <td>Action,Crime,Drama</td>\n",
       "      <td>7.000</td>\n",
       "      <td>77</td>\n",
       "      <td>IN</td>\n",
       "      <td>nan</td>\n",
       "      <td>nan</td>\n",
       "      <td>nan</td>\n",
       "    </tr>\n",
       "    <tr>\n",
       "      <th>2</th>\n",
       "      <td>tt0063540</td>\n",
       "      <td>Sunghursh</td>\n",
       "      <td>2013</td>\n",
       "      <td>175.000</td>\n",
       "      <td>Action,Crime,Drama</td>\n",
       "      <td>7.000</td>\n",
       "      <td>77</td>\n",
       "      <td>IN</td>\n",
       "      <td>nan</td>\n",
       "      <td>nan</td>\n",
       "      <td>nan</td>\n",
       "    </tr>\n",
       "    <tr>\n",
       "      <th>3</th>\n",
       "      <td>tt0063540</td>\n",
       "      <td>Sunghursh</td>\n",
       "      <td>2013</td>\n",
       "      <td>175.000</td>\n",
       "      <td>Action,Crime,Drama</td>\n",
       "      <td>7.000</td>\n",
       "      <td>77</td>\n",
       "      <td>IN</td>\n",
       "      <td>nan</td>\n",
       "      <td>nan</td>\n",
       "      <td>nan</td>\n",
       "    </tr>\n",
       "    <tr>\n",
       "      <th>4</th>\n",
       "      <td>tt0063540</td>\n",
       "      <td>Sunghursh</td>\n",
       "      <td>2013</td>\n",
       "      <td>175.000</td>\n",
       "      <td>Action,Crime,Drama</td>\n",
       "      <td>7.000</td>\n",
       "      <td>77</td>\n",
       "      <td>IN</td>\n",
       "      <td>nan</td>\n",
       "      <td>nan</td>\n",
       "      <td>nan</td>\n",
       "    </tr>\n",
       "    <tr>\n",
       "      <th>7</th>\n",
       "      <td>tt0066787</td>\n",
       "      <td>One Day Before the Rainy Season</td>\n",
       "      <td>2019</td>\n",
       "      <td>114.000</td>\n",
       "      <td>Biography,Drama</td>\n",
       "      <td>7.200</td>\n",
       "      <td>43</td>\n",
       "      <td>IN</td>\n",
       "      <td>nan</td>\n",
       "      <td>nan</td>\n",
       "      <td>nan</td>\n",
       "    </tr>\n",
       "  </tbody>\n",
       "</table>\n",
       "</div>"
      ],
      "text/plain": [
       "     movieid                     primarytitle  startyear  runtimeminutes  \\\n",
       "1  tt0063540                        Sunghursh       2013         175.000   \n",
       "2  tt0063540                        Sunghursh       2013         175.000   \n",
       "3  tt0063540                        Sunghursh       2013         175.000   \n",
       "4  tt0063540                        Sunghursh       2013         175.000   \n",
       "7  tt0066787  One Day Before the Rainy Season       2019         114.000   \n",
       "\n",
       "               genres  averagerating  numvotes region  domesticgross  \\\n",
       "1  Action,Crime,Drama          7.000        77     IN            nan   \n",
       "2  Action,Crime,Drama          7.000        77     IN            nan   \n",
       "3  Action,Crime,Drama          7.000        77     IN            nan   \n",
       "4  Action,Crime,Drama          7.000        77     IN            nan   \n",
       "7     Biography,Drama          7.200        43     IN            nan   \n",
       "\n",
       "   foreigngross  totalgross  \n",
       "1           nan         nan  \n",
       "2           nan         nan  \n",
       "3           nan         nan  \n",
       "4           nan         nan  \n",
       "7           nan         nan  "
      ]
     },
     "execution_count": 214,
     "metadata": {},
     "output_type": "execute_result"
    }
   ],
   "source": [
    "df_clean['domesticgross'] = df_clean['domesticgross'].apply(pd.to_numeric, errors = 'coerce').dropna().astype(float)\n",
    "df_clean['foreigngross'] = df_clean['foreigngross'].apply(pd.to_numeric, errors = 'coerce').dropna().astype(float)\n",
    "\n",
    "df_clean['totalgross'] = df_clean['domesticgross'] + df_clean['foreigngross']\n",
    "\n",
    "df_clean.head()"
   ]
  },
  {
   "attachments": {},
   "cell_type": "markdown",
   "metadata": {},
   "source": [
    "<br>\n",
    "We want to keep rows with missing data from the total_gross column so we will replace values with -999999"
   ]
  },
  {
   "cell_type": "code",
   "execution_count": 215,
   "metadata": {},
   "outputs": [
    {
     "data": {
      "text/plain": [
       "totalgross       186972\n",
       "domesticgross    180687\n",
       "foreigngross     186874\n",
       "dtype: int64"
      ]
     },
     "execution_count": 215,
     "metadata": {},
     "output_type": "execute_result"
    }
   ],
   "source": [
    "df_clean[['totalgross','domesticgross','foreigngross']].isnull().sum()"
   ]
  },
  {
   "cell_type": "code",
   "execution_count": 216,
   "metadata": {},
   "outputs": [],
   "source": [
    "values = {'totalgross': -999999, 'domesticgross': -999999, 'foreigngross': -999999}\n",
    "df_clean.fillna(values, inplace=True)"
   ]
  },
  {
   "cell_type": "code",
   "execution_count": 217,
   "metadata": {
    "scrolled": true
   },
   "outputs": [
    {
     "data": {
      "text/plain": [
       "totalgross       0\n",
       "domesticgross    0\n",
       "foreigngross     0\n",
       "dtype: int64"
      ]
     },
     "execution_count": 217,
     "metadata": {},
     "output_type": "execute_result"
    }
   ],
   "source": [
    "df_clean[['totalgross','domesticgross','foreigngross']].isnull().sum()"
   ]
  },
  {
   "attachments": {},
   "cell_type": "markdown",
   "metadata": {},
   "source": [
    "##### Genre Cleaning\n",
    "Splitting up the Genres into new columns for multiple genre movies;"
   ]
  },
  {
   "attachments": {},
   "cell_type": "markdown",
   "metadata": {},
   "source": [
    "We will start by dropping any data missing genres"
   ]
  },
  {
   "cell_type": "code",
   "execution_count": 218,
   "metadata": {},
   "outputs": [],
   "source": [
    "# Drop mising data from genres\n",
    "df_clean = df_clean.dropna(subset=['genres'])"
   ]
  },
  {
   "cell_type": "code",
   "execution_count": 219,
   "metadata": {},
   "outputs": [
    {
     "data": {
      "text/html": [
       "<div>\n",
       "<style scoped>\n",
       "    .dataframe tbody tr th:only-of-type {\n",
       "        vertical-align: middle;\n",
       "    }\n",
       "\n",
       "    .dataframe tbody tr th {\n",
       "        vertical-align: top;\n",
       "    }\n",
       "\n",
       "    .dataframe thead th {\n",
       "        text-align: right;\n",
       "    }\n",
       "</style>\n",
       "<table border=\"1\" class=\"dataframe\">\n",
       "  <thead>\n",
       "    <tr style=\"text-align: right;\">\n",
       "      <th></th>\n",
       "      <th>0</th>\n",
       "      <th>1</th>\n",
       "      <th>2</th>\n",
       "    </tr>\n",
       "  </thead>\n",
       "  <tbody>\n",
       "    <tr>\n",
       "      <th>1</th>\n",
       "      <td>Action</td>\n",
       "      <td>Crime</td>\n",
       "      <td>Drama</td>\n",
       "    </tr>\n",
       "    <tr>\n",
       "      <th>2</th>\n",
       "      <td>Action</td>\n",
       "      <td>Crime</td>\n",
       "      <td>Drama</td>\n",
       "    </tr>\n",
       "    <tr>\n",
       "      <th>3</th>\n",
       "      <td>Action</td>\n",
       "      <td>Crime</td>\n",
       "      <td>Drama</td>\n",
       "    </tr>\n",
       "    <tr>\n",
       "      <th>4</th>\n",
       "      <td>Action</td>\n",
       "      <td>Crime</td>\n",
       "      <td>Drama</td>\n",
       "    </tr>\n",
       "    <tr>\n",
       "      <th>7</th>\n",
       "      <td>Biography</td>\n",
       "      <td>Drama</td>\n",
       "      <td>None</td>\n",
       "    </tr>\n",
       "    <tr>\n",
       "      <th>...</th>\n",
       "      <td>...</td>\n",
       "      <td>...</td>\n",
       "      <td>...</td>\n",
       "    </tr>\n",
       "    <tr>\n",
       "      <th>266062</th>\n",
       "      <td>Comedy</td>\n",
       "      <td>Horror</td>\n",
       "      <td>None</td>\n",
       "    </tr>\n",
       "    <tr>\n",
       "      <th>266068</th>\n",
       "      <td>Drama</td>\n",
       "      <td>None</td>\n",
       "      <td>None</td>\n",
       "    </tr>\n",
       "    <tr>\n",
       "      <th>266069</th>\n",
       "      <td>Drama</td>\n",
       "      <td>None</td>\n",
       "      <td>None</td>\n",
       "    </tr>\n",
       "    <tr>\n",
       "      <th>266077</th>\n",
       "      <td>Drama</td>\n",
       "      <td>None</td>\n",
       "      <td>None</td>\n",
       "    </tr>\n",
       "    <tr>\n",
       "      <th>266078</th>\n",
       "      <td>Drama</td>\n",
       "      <td>None</td>\n",
       "      <td>None</td>\n",
       "    </tr>\n",
       "  </tbody>\n",
       "</table>\n",
       "<p>217392 rows × 3 columns</p>\n",
       "</div>"
      ],
      "text/plain": [
       "                0       1      2\n",
       "1          Action   Crime  Drama\n",
       "2          Action   Crime  Drama\n",
       "3          Action   Crime  Drama\n",
       "4          Action   Crime  Drama\n",
       "7       Biography   Drama   None\n",
       "...           ...     ...    ...\n",
       "266062     Comedy  Horror   None\n",
       "266068      Drama    None   None\n",
       "266069      Drama    None   None\n",
       "266077      Drama    None   None\n",
       "266078      Drama    None   None\n",
       "\n",
       "[217392 rows x 3 columns]"
      ]
     },
     "execution_count": 219,
     "metadata": {},
     "output_type": "execute_result"
    }
   ],
   "source": [
    "# Split out the genres into columns\n",
    "df_clean['genres'].str.rsplit(\",\", expand=True)"
   ]
  },
  {
   "attachments": {},
   "cell_type": "markdown",
   "metadata": {},
   "source": [
    "There seem to be a maximum of 3 genres per movie\n",
    "\n",
    "Let's rename the columns"
   ]
  },
  {
   "cell_type": "code",
   "execution_count": 220,
   "metadata": {},
   "outputs": [],
   "source": [
    "# Rename the new genre columns 1,2,3\n",
    "df_clean[['genre1', 'genre2', 'genre3']] = df_clean['genres'].str.rsplit(\",\", expand=True)"
   ]
  },
  {
   "attachments": {},
   "cell_type": "markdown",
   "metadata": {},
   "source": [
    "<br>\n",
    "Checking;"
   ]
  },
  {
   "cell_type": "code",
   "execution_count": 221,
   "metadata": {
    "scrolled": false
   },
   "outputs": [
    {
     "name": "stdout",
     "output_type": "stream",
     "text": [
      "<class 'pandas.core.frame.DataFrame'>\n",
      "Int64Index: 217392 entries, 1 to 266078\n",
      "Data columns (total 3 columns):\n",
      " #   Column  Non-Null Count   Dtype \n",
      "---  ------  --------------   ----- \n",
      " 0   genre1  217392 non-null  object\n",
      " 1   genre2  145653 non-null  object\n",
      " 2   genre3  88536 non-null   object\n",
      "dtypes: object(3)\n",
      "memory usage: 6.6+ MB\n"
     ]
    }
   ],
   "source": [
    "df_clean[['genre1', 'genre2', 'genre3']].info()"
   ]
  },
  {
   "attachments": {},
   "cell_type": "markdown",
   "metadata": {},
   "source": [
    "#### Review Cleaning\n",
    "<br>\n",
    "Dropping null values and movies with less than 30 reviews from data frame because they are not significant and may affect our data for the worse;"
   ]
  },
  {
   "cell_type": "code",
   "execution_count": 222,
   "metadata": {},
   "outputs": [
    {
     "data": {
      "text/plain": [
       "35390"
      ]
     },
     "execution_count": 222,
     "metadata": {},
     "output_type": "execute_result"
    }
   ],
   "source": [
    "df_clean[df_clean['numvotes'] < 30]['movieid'].count()"
   ]
  },
  {
   "attachments": {},
   "cell_type": "markdown",
   "metadata": {},
   "source": [
    "There are 35,390 rows with small number of votes that we will be dropping"
   ]
  },
  {
   "cell_type": "code",
   "execution_count": 223,
   "metadata": {},
   "outputs": [],
   "source": [
    "# Drop movies with < 30 votes for ratings\n",
    "df_clean = df_clean[df_clean['numvotes'] >= 30]"
   ]
  },
  {
   "attachments": {},
   "cell_type": "markdown",
   "metadata": {},
   "source": [
    "Checking to confirm we've dropped them"
   ]
  },
  {
   "cell_type": "code",
   "execution_count": 224,
   "metadata": {},
   "outputs": [
    {
     "data": {
      "text/plain": [
       "0"
      ]
     },
     "execution_count": 224,
     "metadata": {},
     "output_type": "execute_result"
    }
   ],
   "source": [
    "df_clean[df_clean['numvotes'] < 30]['movieid'].count()"
   ]
  },
  {
   "attachments": {},
   "cell_type": "markdown",
   "metadata": {},
   "source": [
    "There are now no movies with < 30 votes"
   ]
  },
  {
   "attachments": {},
   "cell_type": "markdown",
   "metadata": {},
   "source": [
    "\n",
    "##### Runtime Cleaning\n",
    "<br>\n",
    "Handling outliers that have significantly longer runtimes than most"
   ]
  },
  {
   "cell_type": "code",
   "execution_count": 225,
   "metadata": {},
   "outputs": [
    {
     "data": {
      "text/plain": [
       "count   178805.000\n",
       "mean       102.243\n",
       "std         39.601\n",
       "min          8.000\n",
       "25%         90.000\n",
       "50%         99.000\n",
       "75%        112.000\n",
       "max      14400.000\n",
       "Name: runtimeminutes, dtype: float64"
      ]
     },
     "execution_count": 225,
     "metadata": {},
     "output_type": "execute_result"
    }
   ],
   "source": [
    "df_clean['runtimeminutes'].describe()"
   ]
  },
  {
   "attachments": {},
   "cell_type": "markdown",
   "metadata": {},
   "source": [
    "When checking **outliers** with _.describe()_ \n",
    "<br>\n",
    "<br>\n",
    "We can observe the **longest** runtimeminutes value is **14400.000000** minutes... thats a very long movie\n",
    "<br>\n",
    "<br>\n",
    "Using a seaborn blox plot we can see the _spread of the **outliers**;_"
   ]
  },
  {
   "cell_type": "code",
   "execution_count": 226,
   "metadata": {},
   "outputs": [
    {
     "data": {
      "image/png": "[encoded data removed]",
      "text/plain": [
       "<Figure size 432x288 with 1 Axes>"
      ]
     },
     "metadata": {},
     "output_type": "display_data"
    }
   ],
   "source": [
    "df_clean['runtimeminutes'].plot.box();"
   ]
  },
  {
   "attachments": {},
   "cell_type": "markdown",
   "metadata": {},
   "source": [
    "To be safe since there are some movies that actually have long runtimes we chose to **drop** any movies that are **longer than 333.0 minutes** for a cleaner data set"
   ]
  },
  {
   "cell_type": "code",
   "execution_count": 227,
   "metadata": {},
   "outputs": [],
   "source": [
    "df_clean = df_clean[df_clean['runtimeminutes'] <= 333.0]"
   ]
  },
  {
   "attachments": {},
   "cell_type": "markdown",
   "metadata": {},
   "source": [
    "<br>\n",
    "Checking;"
   ]
  },
  {
   "cell_type": "code",
   "execution_count": 228,
   "metadata": {},
   "outputs": [
    {
     "data": {
      "text/plain": [
       "count   178764.000\n",
       "mean       102.077\n",
       "std         19.552\n",
       "min          8.000\n",
       "25%         90.000\n",
       "50%         99.000\n",
       "75%        112.000\n",
       "max        325.000\n",
       "Name: runtimeminutes, dtype: float64"
      ]
     },
     "execution_count": 228,
     "metadata": {},
     "output_type": "execute_result"
    }
   ],
   "source": [
    "df_clean['runtimeminutes'].describe()"
   ]
  },
  {
   "cell_type": "code",
   "execution_count": 229,
   "metadata": {
    "scrolled": true
   },
   "outputs": [
    {
     "data": {
      "image/png": "[encoded data removed]",
      "text/plain": [
       "<Figure size 432x288 with 1 Axes>"
      ]
     },
     "metadata": {},
     "output_type": "display_data"
    }
   ],
   "source": [
    "df_clean['runtimeminutes'].plot.box();"
   ]
  },
  {
   "attachments": {},
   "cell_type": "markdown",
   "metadata": {},
   "source": [
    "We can now actually see something from this box chart, there are still many outliers but after research we are able o conclude 333 minutes will include up to 97% of our data. "
   ]
  },
  {
   "attachments": {},
   "cell_type": "markdown",
   "metadata": {},
   "source": [
    "##### Null cleaning\n",
    "Checking null values throughout the whole data set;"
   ]
  },
  {
   "cell_type": "code",
   "execution_count": 230,
   "metadata": {},
   "outputs": [
    {
     "data": {
      "text/plain": [
       "movieid               0\n",
       "primarytitle          0\n",
       "startyear             0\n",
       "runtimeminutes        0\n",
       "genres                0\n",
       "averagerating         0\n",
       "numvotes              0\n",
       "region                0\n",
       "domesticgross         0\n",
       "foreigngross          0\n",
       "totalgross            0\n",
       "genre1                0\n",
       "genre2            48961\n",
       "genre3            98005\n",
       "dtype: int64"
      ]
     },
     "execution_count": 230,
     "metadata": {},
     "output_type": "execute_result"
    }
   ],
   "source": [
    "df_clean.isnull().sum()"
   ]
  },
  {
   "attachments": {},
   "cell_type": "markdown",
   "metadata": {},
   "source": [
    "Handle any missing data in the genre columns"
   ]
  },
  {
   "cell_type": "code",
   "execution_count": 231,
   "metadata": {},
   "outputs": [],
   "source": [
    "df_clean.loc[:,['genre1','genre2','genre3']] = df_clean.loc[:,['genre1','genre2','genre3']].fillna(value='N/A')"
   ]
  },
  {
   "cell_type": "code",
   "execution_count": 232,
   "metadata": {},
   "outputs": [
    {
     "data": {
      "text/plain": [
       "genre1    0\n",
       "genre2    0\n",
       "genre3    0\n",
       "dtype: int64"
      ]
     },
     "execution_count": 232,
     "metadata": {},
     "output_type": "execute_result"
    }
   ],
   "source": [
    "df_clean[['genre1','genre2','genre3']].isna().sum()"
   ]
  },
  {
   "attachments": {},
   "cell_type": "markdown",
   "metadata": {},
   "source": [
    "<br>\n",
    "Checking;"
   ]
  },
  {
   "cell_type": "code",
   "execution_count": 233,
   "metadata": {},
   "outputs": [
    {
     "data": {
      "text/plain": [
       "movieid           0\n",
       "primarytitle      0\n",
       "startyear         0\n",
       "runtimeminutes    0\n",
       "genres            0\n",
       "averagerating     0\n",
       "numvotes          0\n",
       "region            0\n",
       "domesticgross     0\n",
       "foreigngross      0\n",
       "totalgross        0\n",
       "genre1            0\n",
       "genre2            0\n",
       "genre3            0\n",
       "dtype: int64"
      ]
     },
     "execution_count": 233,
     "metadata": {},
     "output_type": "execute_result"
    }
   ],
   "source": [
    "df_clean.isnull().sum()"
   ]
  },
  {
   "attachments": {},
   "cell_type": "markdown",
   "metadata": {},
   "source": [
    "# Exploratory Data Analysis\n",
    "What we found:\n",
    "- Data freshness, years are from 2010-2019. This is slightly stale.\n",
    "- Explore the top genres and genre combinations\n",
    "- Explore runtime\n",
    "- Explore how ratings is related to gross\n"
   ]
  },
  {
   "cell_type": "code",
   "execution_count": 234,
   "metadata": {},
   "outputs": [],
   "source": [
    "# Update the revenue filter to only include good values\n",
    "has_rev_filter = df_clean['totalgross'] != -999999\n",
    "\n",
    "# Create a filter to just include data from USA\n",
    "usa_filter = df_clean['region'] == 'US'"
   ]
  },
  {
   "attachments": {},
   "cell_type": "markdown",
   "metadata": {},
   "source": [
    "### Data Freshness"
   ]
  },
  {
   "cell_type": "code",
   "execution_count": 235,
   "metadata": {},
   "outputs": [
    {
     "data": {
      "text/plain": [
       "count   266085.000\n",
       "mean      2014.164\n",
       "std          2.594\n",
       "min       2010.000\n",
       "25%       2012.000\n",
       "50%       2014.000\n",
       "75%       2016.000\n",
       "max       2019.000\n",
       "Name: startyear, dtype: float64"
      ]
     },
     "execution_count": 235,
     "metadata": {},
     "output_type": "execute_result"
    }
   ],
   "source": [
    "df_imdb['startyear'].describe()"
   ]
  },
  {
   "cell_type": "code",
   "execution_count": 236,
   "metadata": {},
   "outputs": [
    {
     "data": {
      "image/png": "[encoded data removed]",
      "text/plain": [
       "<Figure size 432x288 with 1 Axes>"
      ]
     },
     "metadata": {},
     "output_type": "display_data"
    }
   ],
   "source": [
    "# Check how much data we have for each year\n",
    "df_clean.groupby('startyear')['movieid'].count().plot.bar();"
   ]
  },
  {
   "attachments": {},
   "cell_type": "markdown",
   "metadata": {},
   "source": [
    "**Observations**\n",
    "- This data is from a range of years so we may want to adjust any money values for inflation\n",
    "- This data does not include the COVID-19 pandemic so any recommendations would need to take that into account"
   ]
  },
  {
   "attachments": {},
   "cell_type": "markdown",
   "metadata": {},
   "source": [
    "### Genres"
   ]
  },
  {
   "cell_type": "code",
   "execution_count": 237,
   "metadata": {},
   "outputs": [
    {
     "data": {
      "text/plain": [
       "['Drama',\n",
       " 'Documentary',\n",
       " 'Comedy',\n",
       " 'Horror',\n",
       " 'Comedy,Drama',\n",
       " 'Horror,Thriller',\n",
       " 'Comedy,Drama,Romance',\n",
       " 'Thriller',\n",
       " 'Drama,Romance',\n",
       " 'Comedy,Romance']"
      ]
     },
     "execution_count": 237,
     "metadata": {},
     "output_type": "execute_result"
    }
   ],
   "source": [
    "# First let's find the top genres\n",
    "top_genres_combos = list(df_clean[usa_filter].groupby('genres').count().reset_index().nlargest(10, columns='movieid')['genres'])\n",
    "top_genres_combos"
   ]
  },
  {
   "cell_type": "code",
   "execution_count": 238,
   "metadata": {},
   "outputs": [],
   "source": [
    "# Create a filter for only top genres\n",
    "top_genre_combos_filter = df_clean['genres'].isin(top_genres_combos)"
   ]
  },
  {
   "cell_type": "code",
   "execution_count": 239,
   "metadata": {},
   "outputs": [
    {
     "data": {
      "image/png": "[encoded data removed]",
      "text/plain": [
       "<Figure size 432x288 with 1 Axes>"
      ]
     },
     "metadata": {},
     "output_type": "display_data"
    }
   ],
   "source": [
    "# Compare total gross revenue for common genres\n",
    "top_genres_filter_final = top_genre_combos_filter & usa_filter & has_rev_filter\n",
    "top_genre_combos = df_clean[top_genres_filter_final].groupby('genres')['totalgross'].mean().reset_index().sort_values(by='totalgross', ascending=False)\n",
    "sns.barplot(data=top_genre_combos, x='totalgross', y='genres');"
   ]
  },
  {
   "attachments": {},
   "cell_type": "markdown",
   "metadata": {},
   "source": [
    "**Observations**\n",
    "- There are similar combinations (Comedy vs. Comedy,Drama) so we may want to split those out\n",
    "- One category is much higher than the others, it turned out the there were different currencies here so we needed to split out USD only\n",
    "\n",
    "Are the differences signficiant however, let's find out?"
   ]
  },
  {
   "cell_type": "code",
   "execution_count": 240,
   "metadata": {},
   "outputs": [
    {
     "name": "stdout",
     "output_type": "stream",
     "text": [
      "                         Multiple Comparison of Means - Tukey HSD, FWER=0.05                          \n",
      "======================================================================================================\n",
      "       group1               group2            meandiff    p-adj       lower          upper      reject\n",
      "------------------------------------------------------------------------------------------------------\n",
      "              Comedy         Comedy,Drama  -61601047.7239  0.002 -109056023.6841 -14146071.7636   True\n",
      "              Comedy Comedy,Drama,Romance  -49386230.2172 0.0164  -93698834.3694  -5073626.0649   True\n",
      "              Comedy       Comedy,Romance     -12880.0396    0.9  -50484757.7503  50458997.6711  False\n",
      "              Comedy          Documentary -101542552.9771 0.0012 -177150950.1745 -25934155.7797   True\n",
      "              Comedy                Drama  -64713049.3767 0.0136 -121876740.2158  -7549358.5375   True\n",
      "              Comedy        Drama,Romance  -22691780.8312    0.9  -81837162.9483  36453601.2859  False\n",
      "              Comedy               Horror   11512265.8354    0.9 -105276765.9464 128301297.6173  False\n",
      "              Comedy      Horror,Thriller   11600715.8354    0.9  -52680075.0993  75881506.7702  False\n",
      "        Comedy,Drama Comedy,Drama,Romance   12214817.5067    0.9  -35638918.3764  60068553.3898  False\n",
      "        Comedy,Drama       Comedy,Romance   61588167.6843 0.0114    7980485.4843 115195849.8844   True\n",
      "        Comedy,Drama          Documentary  -39941505.2532 0.7769 -117678258.9671  37795248.4607  False\n",
      "        Comedy,Drama                Drama   -3112001.6528    0.9  -63062487.0684  56838483.7628  False\n",
      "        Comedy,Drama        Drama,Romance   38909266.8927 0.5601  -22933674.3132 100752208.0985  False\n",
      "        Comedy,Drama               Horror   73113313.5593 0.5798  -45064734.7228 191291361.8414  False\n",
      "        Comedy,Drama      Horror,Thriller   73201763.5593 0.0197     6430562.923 139972964.1957   True\n",
      "Comedy,Drama,Romance       Comedy,Romance   49373350.1776 0.0649   -1473633.3536 100220333.7089  False\n",
      "Comedy,Drama,Romance          Documentary  -52156322.7599 0.4469 -128015633.4695  23702987.9498  False\n",
      "Comedy,Drama,Romance                Drama  -15326819.1595    0.9  -72821974.1287  42168335.8097  False\n",
      "Comedy,Drama,Romance        Drama,Romance    26694449.386 0.8989  -32771351.8813  86160250.6533  False\n",
      "Comedy,Drama,Romance               Horror   60898496.0526 0.7639   -56053131.722 177850123.8272  False\n",
      "Comedy,Drama,Romance      Horror,Thriller   60986946.0526 0.0816   -3588787.6078 125562679.7131  False\n",
      "      Comedy,Romance          Documentary -101529672.9375 0.0027 -181143984.3032 -21915361.5718   True\n",
      "      Comedy,Romance                Drama  -64700169.3371 0.0353 -127065996.5009  -2334342.1733   True\n",
      "      Comedy,Romance        Drama,Romance  -22678900.7917    0.9    -86866010.66  41508209.0767  False\n",
      "      Comedy,Romance               Horror    11525145.875    0.9 -107896321.1735 130946612.9235  False\n",
      "      Comedy,Romance      Horror,Thriller    11613595.875    0.9  -57334420.2725  80561612.0225  False\n",
      "         Documentary                Drama   36829503.6004    0.9  -47186659.6359 120845666.8366  False\n",
      "         Documentary        Drama,Romance   78850772.1458 0.0964   -6526065.2304 164227609.5221  False\n",
      "         Documentary               Horror  113054818.8125 0.1617  -18970580.5587 245080218.1837  False\n",
      "         Documentary      Horror,Thriller  113143268.8125 0.0028   24131762.7148 202154774.9102   True\n",
      "               Drama        Drama,Romance   42021268.5455 0.6074  -27550724.2674 111593261.3584  False\n",
      "               Drama               Horror   76225315.2121 0.5721  -46174700.7304 198625331.1546  False\n",
      "               Drama      Horror,Thriller   76313765.2121 0.0374    2326563.3365 150300967.0877   True\n",
      "       Drama,Romance               Horror   34204046.6667    0.9   -89133914.149 157542007.4823  False\n",
      "       Drama,Romance      Horror,Thriller   34292496.6667 0.8893  -41236270.8117 109821264.1451  False\n",
      "              Horror      Horror,Thriller         88450.0    0.9 -125792829.1307 125969729.1307  False\n",
      "------------------------------------------------------------------------------------------------------\n"
     ]
    }
   ],
   "source": [
    "print(pairwise_tukeyhsd(df_clean[top_genres_filter_final]['totalgross'], df_clean[top_genres_filter_final]['genres']))"
   ]
  },
  {
   "attachments": {},
   "cell_type": "markdown",
   "metadata": {},
   "source": [
    "**Observations**\n",
    "- There are so many combinations that it's hard to understand the data\n",
    "- Horror/Thriller is the same as Horror, again it may be worth separating them"
   ]
  },
  {
   "attachments": {},
   "cell_type": "markdown",
   "metadata": {},
   "source": [
    "### Runtime\n",
    "What we found:\n",
    "- There were a significant number of outliers\n",
    "- There were movies with 5k runtime minutes, which is way too long for a movie\n",
    "- We will want to categorize these to see if there is an optimal length"
   ]
  },
  {
   "cell_type": "code",
   "execution_count": 241,
   "metadata": {},
   "outputs": [
    {
     "data": {
      "text/plain": [
       "count   178764.000\n",
       "mean       102.077\n",
       "std         19.552\n",
       "min          8.000\n",
       "25%         90.000\n",
       "50%         99.000\n",
       "75%        112.000\n",
       "max        325.000\n",
       "Name: runtimeminutes, dtype: float64"
      ]
     },
     "execution_count": 241,
     "metadata": {},
     "output_type": "execute_result"
    }
   ],
   "source": [
    "# Explore the column\n",
    "df_clean['runtimeminutes'].describe()"
   ]
  },
  {
   "cell_type": "code",
   "execution_count": 242,
   "metadata": {},
   "outputs": [
    {
     "data": {
      "image/png": "[encoded data removed]",
      "text/plain": [
       "<Figure size 432x288 with 1 Axes>"
      ]
     },
     "metadata": {},
     "output_type": "display_data"
    }
   ],
   "source": [
    "# Let's explore the runtime data\n",
    "sns.boxplot(data=list(df_clean['runtimeminutes']));"
   ]
  },
  {
   "attachments": {},
   "cell_type": "markdown",
   "metadata": {},
   "source": [
    "**Observations**\n",
    "- There are still significant number of outliers\n",
    "- We may want to add a feature here since there are so many different runtimes"
   ]
  },
  {
   "attachments": {},
   "cell_type": "markdown",
   "metadata": {},
   "source": [
    "# Modeling\n",
    "What we will be doing:\n",
    "- Categorize movies by genre (split out the genre string)\n",
    "- Categorize movies based on runtime"
   ]
  },
  {
   "attachments": {},
   "cell_type": "markdown",
   "metadata": {},
   "source": [
    "### Genre"
   ]
  },
  {
   "attachments": {},
   "cell_type": "markdown",
   "metadata": {},
   "source": [
    "The current state of our data is:\n",
    "- movie1: genre1, genre2, genre3\n",
    "\n",
    "We want to change that to:\n",
    "- genre1: movie1\n",
    "- genre2: movie1\n",
    "- genre3: movie1\n",
    "\n",
    "This will let us find the average gross revenue by individual genres.\n",
    "\n",
    "*Note: This approach does double count movies, we're handling this by also comparing the genre combinations*"
   ]
  },
  {
   "cell_type": "code",
   "execution_count": 243,
   "metadata": {},
   "outputs": [
    {
     "name": "stdout",
     "output_type": "stream",
     "text": [
      "<class 'pandas.core.frame.DataFrame'>\n",
      "Int64Index: 4602 entries, 224 to 257150\n",
      "Data columns (total 2 columns):\n",
      " #   Column      Non-Null Count  Dtype  \n",
      "---  ------      --------------  -----  \n",
      " 0   totalgross  4602 non-null   float64\n",
      " 1   genre       4602 non-null   object \n",
      "dtypes: float64(1), object(1)\n",
      "memory usage: 107.9+ KB\n"
     ]
    }
   ],
   "source": [
    "# Let's start by creating a new dataframe that counts movies for each genre\n",
    "temp_1 = df_clean[has_rev_filter & usa_filter][['totalgross','genre1']]\n",
    "temp_2 = df_clean[has_rev_filter & usa_filter][['totalgross','genre2']]\n",
    "temp_3 = df_clean[has_rev_filter & usa_filter][['totalgross','genre3']]\n",
    "\n",
    "temp_1.rename(columns={\"genre1\": \"genre\"}, inplace=True)\n",
    "temp_2.rename(columns={\"genre2\": \"genre\"}, inplace=True)\n",
    "temp_3.rename(columns={\"genre3\": \"genre\"}, inplace=True)\n",
    "\n",
    "genre_revenue = temp_1.append(temp_2).append(temp_3).dropna()\n",
    "genre_revenue = genre_revenue[genre_revenue['genre'] != 'N/A'] # Remove records that don't have a genre\n",
    "genre_revenue.info()"
   ]
  },
  {
   "cell_type": "code",
   "execution_count": 244,
   "metadata": {},
   "outputs": [
    {
     "data": {
      "text/plain": [
       "Comedy         703\n",
       "Drama          683\n",
       "Action         627\n",
       "Adventure      598\n",
       "Thriller       299\n",
       "Crime          224\n",
       "Sci-Fi         216\n",
       "Romance        212\n",
       "Horror         171\n",
       "Animation      169\n",
       "Fantasy        156\n",
       "Mystery        153\n",
       "Biography      128\n",
       "Family          97\n",
       "Music           54\n",
       "History         38\n",
       "Documentary     34\n",
       "Sport           19\n",
       "War              9\n",
       "Western          7\n",
       "Musical          5\n",
       "Name: genre, dtype: int64"
      ]
     },
     "execution_count": 244,
     "metadata": {},
     "output_type": "execute_result"
    }
   ],
   "source": [
    "# Let's check value counts\n",
    "genre_revenue['genre'].value_counts()"
   ]
  },
  {
   "cell_type": "code",
   "execution_count": 245,
   "metadata": {},
   "outputs": [
    {
     "data": {
      "text/html": [
       "<div>\n",
       "<style scoped>\n",
       "    .dataframe tbody tr th:only-of-type {\n",
       "        vertical-align: middle;\n",
       "    }\n",
       "\n",
       "    .dataframe tbody tr th {\n",
       "        vertical-align: top;\n",
       "    }\n",
       "\n",
       "    .dataframe thead tr th {\n",
       "        text-align: left;\n",
       "    }\n",
       "\n",
       "    .dataframe thead tr:last-of-type th {\n",
       "        text-align: right;\n",
       "    }\n",
       "</style>\n",
       "<table border=\"1\" class=\"dataframe\">\n",
       "  <thead>\n",
       "    <tr>\n",
       "      <th></th>\n",
       "      <th colspan=\"8\" halign=\"left\">totalgross</th>\n",
       "    </tr>\n",
       "    <tr>\n",
       "      <th></th>\n",
       "      <th>count</th>\n",
       "      <th>mean</th>\n",
       "      <th>std</th>\n",
       "      <th>min</th>\n",
       "      <th>25%</th>\n",
       "      <th>50%</th>\n",
       "      <th>75%</th>\n",
       "      <th>max</th>\n",
       "    </tr>\n",
       "    <tr>\n",
       "      <th>genre</th>\n",
       "      <th></th>\n",
       "      <th></th>\n",
       "      <th></th>\n",
       "      <th></th>\n",
       "      <th></th>\n",
       "      <th></th>\n",
       "      <th></th>\n",
       "      <th></th>\n",
       "    </tr>\n",
       "  </thead>\n",
       "  <tbody>\n",
       "    <tr>\n",
       "      <th>Action</th>\n",
       "      <td>627.000</td>\n",
       "      <td>370854137.305</td>\n",
       "      <td>344101109.597</td>\n",
       "      <td>369500.000</td>\n",
       "      <td>86350000.000</td>\n",
       "      <td>243800000.000</td>\n",
       "      <td>626100000.000</td>\n",
       "      <td>1405400000.000</td>\n",
       "    </tr>\n",
       "    <tr>\n",
       "      <th>Adventure</th>\n",
       "      <td>598.000</td>\n",
       "      <td>446294245.291</td>\n",
       "      <td>346736235.584</td>\n",
       "      <td>1114800.000</td>\n",
       "      <td>153125000.000</td>\n",
       "      <td>343400000.000</td>\n",
       "      <td>710600000.000</td>\n",
       "      <td>1405400000.000</td>\n",
       "    </tr>\n",
       "    <tr>\n",
       "      <th>Animation</th>\n",
       "      <td>169.000</td>\n",
       "      <td>428708609.414</td>\n",
       "      <td>317444945.792</td>\n",
       "      <td>3055000.000</td>\n",
       "      <td>183400000.000</td>\n",
       "      <td>342700000.000</td>\n",
       "      <td>621500000.000</td>\n",
       "      <td>1276400000.000</td>\n",
       "    </tr>\n",
       "    <tr>\n",
       "      <th>Biography</th>\n",
       "      <td>128.000</td>\n",
       "      <td>98763214.844</td>\n",
       "      <td>133866477.082</td>\n",
       "      <td>608000.000</td>\n",
       "      <td>10225000.000</td>\n",
       "      <td>46750000.000</td>\n",
       "      <td>136175000.000</td>\n",
       "      <td>903600000.000</td>\n",
       "    </tr>\n",
       "    <tr>\n",
       "      <th>Comedy</th>\n",
       "      <td>703.000</td>\n",
       "      <td>189826596.137</td>\n",
       "      <td>245149556.695</td>\n",
       "      <td>104500.000</td>\n",
       "      <td>35426000.000</td>\n",
       "      <td>93200000.000</td>\n",
       "      <td>232350000.000</td>\n",
       "      <td>1276400000.000</td>\n",
       "    </tr>\n",
       "    <tr>\n",
       "      <th>Crime</th>\n",
       "      <td>224.000</td>\n",
       "      <td>115745420.973</td>\n",
       "      <td>152886258.515</td>\n",
       "      <td>55600.000</td>\n",
       "      <td>27100000.000</td>\n",
       "      <td>68249999.500</td>\n",
       "      <td>155325000.000</td>\n",
       "      <td>788700000.000</td>\n",
       "    </tr>\n",
       "    <tr>\n",
       "      <th>Documentary</th>\n",
       "      <td>34.000</td>\n",
       "      <td>20131879.382</td>\n",
       "      <td>28047221.458</td>\n",
       "      <td>49400.000</td>\n",
       "      <td>807250.000</td>\n",
       "      <td>8600000.000</td>\n",
       "      <td>32593500.000</td>\n",
       "      <td>99000000.000</td>\n",
       "    </tr>\n",
       "    <tr>\n",
       "      <th>Drama</th>\n",
       "      <td>683.000</td>\n",
       "      <td>108476717.123</td>\n",
       "      <td>146816848.979</td>\n",
       "      <td>55100.000</td>\n",
       "      <td>17000000.000</td>\n",
       "      <td>55200000.000</td>\n",
       "      <td>140050000.000</td>\n",
       "      <td>903600000.000</td>\n",
       "    </tr>\n",
       "    <tr>\n",
       "      <th>Family</th>\n",
       "      <td>97.000</td>\n",
       "      <td>196708013.402</td>\n",
       "      <td>176045846.342</td>\n",
       "      <td>2349000.000</td>\n",
       "      <td>72400000.000</td>\n",
       "      <td>165200000.000</td>\n",
       "      <td>299300000.000</td>\n",
       "      <td>1021100000.000</td>\n",
       "    </tr>\n",
       "    <tr>\n",
       "      <th>Fantasy</th>\n",
       "      <td>156.000</td>\n",
       "      <td>339807368.571</td>\n",
       "      <td>341670270.533</td>\n",
       "      <td>346700.000</td>\n",
       "      <td>61425000.000</td>\n",
       "      <td>197700000.000</td>\n",
       "      <td>644600000.000</td>\n",
       "      <td>1332600000.000</td>\n",
       "    </tr>\n",
       "    <tr>\n",
       "      <th>History</th>\n",
       "      <td>38.000</td>\n",
       "      <td>146011013.158</td>\n",
       "      <td>150464339.332</td>\n",
       "      <td>957500.000</td>\n",
       "      <td>23725000.000</td>\n",
       "      <td>113750000.000</td>\n",
       "      <td>187800000.000</td>\n",
       "      <td>525200000.000</td>\n",
       "    </tr>\n",
       "    <tr>\n",
       "      <th>Horror</th>\n",
       "      <td>171.000</td>\n",
       "      <td>106445392.982</td>\n",
       "      <td>125597077.889</td>\n",
       "      <td>369500.000</td>\n",
       "      <td>24850000.000</td>\n",
       "      <td>77700000.000</td>\n",
       "      <td>122300000.000</td>\n",
       "      <td>700400000.000</td>\n",
       "    </tr>\n",
       "    <tr>\n",
       "      <th>Music</th>\n",
       "      <td>54.000</td>\n",
       "      <td>91403351.852</td>\n",
       "      <td>147778444.216</td>\n",
       "      <td>569000.000</td>\n",
       "      <td>16600000.000</td>\n",
       "      <td>45150000.000</td>\n",
       "      <td>91300000.000</td>\n",
       "      <td>903600000.000</td>\n",
       "    </tr>\n",
       "    <tr>\n",
       "      <th>Musical</th>\n",
       "      <td>5.000</td>\n",
       "      <td>201460000.000</td>\n",
       "      <td>196637046.357</td>\n",
       "      <td>28400000.000</td>\n",
       "      <td>59400000.000</td>\n",
       "      <td>89500000.000</td>\n",
       "      <td>395000000.000</td>\n",
       "      <td>435000000.000</td>\n",
       "    </tr>\n",
       "    <tr>\n",
       "      <th>Mystery</th>\n",
       "      <td>153.000</td>\n",
       "      <td>112969077.765</td>\n",
       "      <td>112473548.335</td>\n",
       "      <td>369500.000</td>\n",
       "      <td>29600000.000</td>\n",
       "      <td>82100000.000</td>\n",
       "      <td>155700000.000</td>\n",
       "      <td>586800000.000</td>\n",
       "    </tr>\n",
       "    <tr>\n",
       "      <th>Romance</th>\n",
       "      <td>212.000</td>\n",
       "      <td>89657985.825</td>\n",
       "      <td>104317009.093</td>\n",
       "      <td>104500.000</td>\n",
       "      <td>26250000.000</td>\n",
       "      <td>56100000.000</td>\n",
       "      <td>114400000.000</td>\n",
       "      <td>571000000.000</td>\n",
       "    </tr>\n",
       "    <tr>\n",
       "      <th>Sci-Fi</th>\n",
       "      <td>216.000</td>\n",
       "      <td>485081898.139</td>\n",
       "      <td>371243118.406</td>\n",
       "      <td>1756000.000</td>\n",
       "      <td>215750000.000</td>\n",
       "      <td>375700000.000</td>\n",
       "      <td>714300000.000</td>\n",
       "      <td>1405400000.000</td>\n",
       "    </tr>\n",
       "    <tr>\n",
       "      <th>Sport</th>\n",
       "      <td>19.000</td>\n",
       "      <td>63315426.316</td>\n",
       "      <td>63718007.405</td>\n",
       "      <td>6000600.000</td>\n",
       "      <td>16190950.000</td>\n",
       "      <td>44900000.000</td>\n",
       "      <td>91650000.000</td>\n",
       "      <td>214000000.000</td>\n",
       "    </tr>\n",
       "    <tr>\n",
       "      <th>Thriller</th>\n",
       "      <td>299.000</td>\n",
       "      <td>202420408.013</td>\n",
       "      <td>251997278.797</td>\n",
       "      <td>55100.000</td>\n",
       "      <td>37900000.000</td>\n",
       "      <td>97500000.000</td>\n",
       "      <td>260100000.000</td>\n",
       "      <td>1108600000.000</td>\n",
       "    </tr>\n",
       "    <tr>\n",
       "      <th>War</th>\n",
       "      <td>9.000</td>\n",
       "      <td>43258333.333</td>\n",
       "      <td>65148399.656</td>\n",
       "      <td>228000.000</td>\n",
       "      <td>1405000.000</td>\n",
       "      <td>3800000.000</td>\n",
       "      <td>76600000.000</td>\n",
       "      <td>177600000.000</td>\n",
       "    </tr>\n",
       "    <tr>\n",
       "      <th>Western</th>\n",
       "      <td>7.000</td>\n",
       "      <td>150971428.571</td>\n",
       "      <td>163717436.602</td>\n",
       "      <td>9300000.000</td>\n",
       "      <td>11100000.000</td>\n",
       "      <td>87200000.000</td>\n",
       "      <td>256350000.000</td>\n",
       "      <td>425400000.000</td>\n",
       "    </tr>\n",
       "  </tbody>\n",
       "</table>\n",
       "</div>"
      ],
      "text/plain": [
       "            totalgross                                                         \\\n",
       "                 count          mean           std          min           25%   \n",
       "genre                                                                           \n",
       "Action         627.000 370854137.305 344101109.597   369500.000  86350000.000   \n",
       "Adventure      598.000 446294245.291 346736235.584  1114800.000 153125000.000   \n",
       "Animation      169.000 428708609.414 317444945.792  3055000.000 183400000.000   \n",
       "Biography      128.000  98763214.844 133866477.082   608000.000  10225000.000   \n",
       "Comedy         703.000 189826596.137 245149556.695   104500.000  35426000.000   \n",
       "Crime          224.000 115745420.973 152886258.515    55600.000  27100000.000   \n",
       "Documentary     34.000  20131879.382  28047221.458    49400.000    807250.000   \n",
       "Drama          683.000 108476717.123 146816848.979    55100.000  17000000.000   \n",
       "Family          97.000 196708013.402 176045846.342  2349000.000  72400000.000   \n",
       "Fantasy        156.000 339807368.571 341670270.533   346700.000  61425000.000   \n",
       "History         38.000 146011013.158 150464339.332   957500.000  23725000.000   \n",
       "Horror         171.000 106445392.982 125597077.889   369500.000  24850000.000   \n",
       "Music           54.000  91403351.852 147778444.216   569000.000  16600000.000   \n",
       "Musical          5.000 201460000.000 196637046.357 28400000.000  59400000.000   \n",
       "Mystery        153.000 112969077.765 112473548.335   369500.000  29600000.000   \n",
       "Romance        212.000  89657985.825 104317009.093   104500.000  26250000.000   \n",
       "Sci-Fi         216.000 485081898.139 371243118.406  1756000.000 215750000.000   \n",
       "Sport           19.000  63315426.316  63718007.405  6000600.000  16190950.000   \n",
       "Thriller       299.000 202420408.013 251997278.797    55100.000  37900000.000   \n",
       "War              9.000  43258333.333  65148399.656   228000.000   1405000.000   \n",
       "Western          7.000 150971428.571 163717436.602  9300000.000  11100000.000   \n",
       "\n",
       "                                                        \n",
       "                      50%           75%            max  \n",
       "genre                                                   \n",
       "Action      243800000.000 626100000.000 1405400000.000  \n",
       "Adventure   343400000.000 710600000.000 1405400000.000  \n",
       "Animation   342700000.000 621500000.000 1276400000.000  \n",
       "Biography    46750000.000 136175000.000  903600000.000  \n",
       "Comedy       93200000.000 232350000.000 1276400000.000  \n",
       "Crime        68249999.500 155325000.000  788700000.000  \n",
       "Documentary   8600000.000  32593500.000   99000000.000  \n",
       "Drama        55200000.000 140050000.000  903600000.000  \n",
       "Family      165200000.000 299300000.000 1021100000.000  \n",
       "Fantasy     197700000.000 644600000.000 1332600000.000  \n",
       "History     113750000.000 187800000.000  525200000.000  \n",
       "Horror       77700000.000 122300000.000  700400000.000  \n",
       "Music        45150000.000  91300000.000  903600000.000  \n",
       "Musical      89500000.000 395000000.000  435000000.000  \n",
       "Mystery      82100000.000 155700000.000  586800000.000  \n",
       "Romance      56100000.000 114400000.000  571000000.000  \n",
       "Sci-Fi      375700000.000 714300000.000 1405400000.000  \n",
       "Sport        44900000.000  91650000.000  214000000.000  \n",
       "Thriller     97500000.000 260100000.000 1108600000.000  \n",
       "War           3800000.000  76600000.000  177600000.000  \n",
       "Western      87200000.000 256350000.000  425400000.000  "
      ]
     },
     "execution_count": 245,
     "metadata": {},
     "output_type": "execute_result"
    }
   ],
   "source": [
    "# Let's check stats for the new dataframe\n",
    "genre_revenue.groupby('genre').describe()"
   ]
  },
  {
   "cell_type": "code",
   "execution_count": 246,
   "metadata": {},
   "outputs": [
    {
     "data": {
      "text/html": [
       "<div>\n",
       "<style scoped>\n",
       "    .dataframe tbody tr th:only-of-type {\n",
       "        vertical-align: middle;\n",
       "    }\n",
       "\n",
       "    .dataframe tbody tr th {\n",
       "        vertical-align: top;\n",
       "    }\n",
       "\n",
       "    .dataframe thead th {\n",
       "        text-align: right;\n",
       "    }\n",
       "</style>\n",
       "<table border=\"1\" class=\"dataframe\">\n",
       "  <thead>\n",
       "    <tr style=\"text-align: right;\">\n",
       "      <th></th>\n",
       "      <th>genre</th>\n",
       "      <th>totalgross</th>\n",
       "    </tr>\n",
       "  </thead>\n",
       "  <tbody>\n",
       "    <tr>\n",
       "      <th>16</th>\n",
       "      <td>Sci-Fi</td>\n",
       "      <td>375700000.000</td>\n",
       "    </tr>\n",
       "    <tr>\n",
       "      <th>1</th>\n",
       "      <td>Adventure</td>\n",
       "      <td>343400000.000</td>\n",
       "    </tr>\n",
       "    <tr>\n",
       "      <th>2</th>\n",
       "      <td>Animation</td>\n",
       "      <td>342700000.000</td>\n",
       "    </tr>\n",
       "    <tr>\n",
       "      <th>0</th>\n",
       "      <td>Action</td>\n",
       "      <td>243800000.000</td>\n",
       "    </tr>\n",
       "    <tr>\n",
       "      <th>9</th>\n",
       "      <td>Fantasy</td>\n",
       "      <td>197700000.000</td>\n",
       "    </tr>\n",
       "  </tbody>\n",
       "</table>\n",
       "</div>"
      ],
      "text/plain": [
       "        genre    totalgross\n",
       "16     Sci-Fi 375700000.000\n",
       "1   Adventure 343400000.000\n",
       "2   Animation 342700000.000\n",
       "0      Action 243800000.000\n",
       "9     Fantasy 197700000.000"
      ]
     },
     "execution_count": 246,
     "metadata": {},
     "output_type": "execute_result"
    }
   ],
   "source": [
    "# Create data for plotting\n",
    "pd.set_option('display.float_format', lambda x: f'{x:.3f}')\n",
    "genre_revenue_data = genre_revenue.groupby('genre').median().reset_index().sort_values(by='totalgross', ascending=False)\n",
    "genre_revenue_data.head()"
   ]
  },
  {
   "cell_type": "code",
   "execution_count": 247,
   "metadata": {},
   "outputs": [
    {
     "data": {
      "image/png": "[encoded data removed]",
      "text/plain": [
       "<Figure size 720x576 with 1 Axes>"
      ]
     },
     "metadata": {},
     "output_type": "display_data"
    }
   ],
   "source": [
    "fig, ax = plt.subplots(figsize=(10,8))\n",
    "\n",
    "n_colors = len(genre_revenue['genre'].value_counts()) # figure out the number of colors needed\n",
    "\n",
    "sns.barplot(data=genre_revenue_data, \n",
    "            x='totalgross', \n",
    "            y='genre', \n",
    "            ax=ax, \n",
    "            palette=reversed(sns.color_palette(\"Blues\", n_colors))\n",
    "            )\n",
    "ax.set_xlabel('Gross Revenue')\n",
    "ax.set_ylabel('Genre')\n",
    "ax.set_title('Gross Revenue by Genre')\n",
    "fig.savefig('images/genre_revenue.png', dpi='figure', bbox_inches='tight');"
   ]
  },
  {
   "cell_type": "code",
   "execution_count": 248,
   "metadata": {},
   "outputs": [
    {
     "name": "stdout",
     "output_type": "stream",
     "text": [
      "                 Multiple Comparison of Means - Tukey HSD, FWER=0.05                 \n",
      "=====================================================================================\n",
      "   group1      group2       meandiff    p-adj       lower           upper      reject\n",
      "-------------------------------------------------------------------------------------\n",
      "     Action   Adventure   75440107.9863  0.001   22666086.9323  128214129.0404   True\n",
      "     Action   Animation   57854472.1096  0.537  -22168728.0865  137877672.3057  False\n",
      "     Action   Biography -272090922.4609  0.001 -361642084.2704 -182539760.6514   True\n",
      "     Action      Comedy -181027541.1681  0.001 -231744229.9801  -130310852.356   True\n",
      "     Action       Crime -255108716.3314  0.001 -326978031.1621 -183239401.5007   True\n",
      "     Action Documentary -350722257.9223  0.001 -513301092.0525 -188143423.7921   True\n",
      "     Action       Drama -262377420.1816  0.001 -313442972.0392 -211311868.3241   True\n",
      "     Action      Family -174146123.9026  0.001 -274882459.6772  -73409788.1279   True\n",
      "     Action     Fantasy  -31046768.7341    0.9 -113654618.0453   51561080.5771  False\n",
      "     Action     History -224843124.1467  0.001 -379091911.3302  -70594336.9633   True\n",
      "     Action      Horror -264408744.3222  0.001 -344062475.5134 -184755013.1309   True\n",
      "     Action       Music -279450785.4528  0.001 -410392918.0116  -148508652.894   True\n",
      "     Action     Musical -169394137.3046    0.9 -583943517.9326  245155243.3233  False\n",
      "     Action     Mystery -257885059.5399  0.001 -341138908.2686 -174631210.8112   True\n",
      "     Action     Romance -281196151.4792  0.001 -354548797.3296 -207843505.6287   True\n",
      "     Action      Sci-Fi  114227760.8343  0.001   41384455.2858  187071066.3827   True\n",
      "     Action       Sport -307538710.9888  0.001 -522540558.6643  -92536863.3134   True\n",
      "     Action    Thriller -168433729.2912  0.001 -233322961.1031 -103544497.4794   True\n",
      "     Action         War -327595803.9713 0.0249  -637558933.259  -17632674.6836   True\n",
      "     Action     Western -219882708.7332 0.7648 -570794807.8768  131029390.4104  False\n",
      "  Adventure   Animation  -17585635.8768    0.9  -98019742.3569   62848470.6034  False\n",
      "  Adventure   Biography -347531030.4472  0.001  -437449568.564 -257612492.3304   True\n",
      "  Adventure      Comedy -256467649.1544  0.001 -307830237.0925 -205105061.2164   True\n",
      "  Adventure       Crime -330548824.3178  0.001 -402875384.6525  -258222263.983   True\n",
      "  Adventure Documentary -426162365.9086  0.001 -588943845.8833 -263380885.9339   True\n",
      "  Adventure       Drama  -337817528.168  0.001 -389524621.5126 -286110434.8234   True\n",
      "  Adventure      Family -249586231.8889  0.001 -350649292.7021 -148523171.0757   True\n",
      "  Adventure     Fantasy -106486876.7205  0.001 -189492838.4548  -23480914.9861   True\n",
      "  Adventure     History -300283232.1331  0.001 -454745594.0961   -145820870.17   True\n",
      "  Adventure      Horror -339848852.3085  0.001 -419915385.9435 -259782318.6736   True\n",
      "  Adventure       Music -354890893.4391  0.001  -486084547.991 -223697238.8873   True\n",
      "  Adventure     Musical  -244834245.291 0.8502 -659463141.8897  169794651.3077  False\n",
      "  Adventure     Mystery -333325167.5263  0.001 -416974054.2121 -249676280.8405   True\n",
      "  Adventure     Romance -356636259.4655  0.001 -430436961.1484 -282835557.7825   True\n",
      "  Adventure      Sci-Fi   38787652.8479    0.9   -34506822.243  112082127.9389  False\n",
      "  Adventure       Sport -382978818.9752  0.001 -598133943.0589 -167823694.8915   True\n",
      "  Adventure    Thriller -243873837.2776  0.001 -309269137.7262  -178478536.829   True\n",
      "  Adventure         War -403035911.9576  0.001 -713105379.0669  -92966444.8484   True\n",
      "  Adventure     Western -295322816.7195 0.2449 -646328848.3501    55683214.911  False\n",
      "  Animation   Biography -329945394.5705  0.001 -438130230.7005 -221760558.4404   True\n",
      "  Animation      Comedy -238882013.2776  0.001  -317981512.082 -159782514.4732   True\n",
      "  Animation       Crime  -312963188.441  0.001 -407036280.2435 -218890096.6385   True\n",
      "  Animation Documentary -408576730.0318  0.001 -582117576.7918 -235035883.2718   True\n",
      "  Animation       Drama -320231892.2912  0.001 -399555525.4251 -240908259.1573   True\n",
      "  Animation      Family -232000596.0121  0.001 -349611639.4236 -114389552.6006   True\n",
      "  Animation     Fantasy  -88901240.8437 0.1964 -191412727.7847   13610246.0974  False\n",
      "  Animation     History -282697596.2563  0.001 -448460187.1344 -116935005.3782   True\n",
      "  Animation      Horror -322263216.4317  0.001 -422409434.9312 -222116997.9323   True\n",
      "  Animation       Music -337305257.5623  0.001 -481632629.4157  -192977885.709   True\n",
      "  Animation     Musical -227248609.4142    0.9 -646218461.7497  191721242.9213  False\n",
      "  Animation     Mystery -315739531.6495  0.001 -418772300.7824 -212706762.5166   True\n",
      "  Animation     Romance -339050623.5887  0.001 -434261751.3014 -243839495.8761   True\n",
      "  Animation      Sci-Fi   56373288.7247 0.8406  -38445988.5889  151192566.0383  False\n",
      "  Animation       Sport -365393183.0984  0.001 -588799411.0575 -141986955.1394   True\n",
      "  Animation    Thriller -226288201.4008  0.001 -315142917.6075 -137433485.1941   True\n",
      "  Animation         War -385450276.0809 0.0025 -701301015.6793  -69599536.4825   True\n",
      "  Animation     Western -277737180.8428 0.3918 -633860543.6153   78386181.9298  False\n",
      "  Biography      Comedy   91063381.2928 0.0366    2336673.2342  179790089.3514   True\n",
      "  Biography       Crime   16982206.1295    0.9  -85318549.5524  119282961.8114  False\n",
      "  Biography Documentary  -78631335.4614    0.9 -256766462.5587    99503791.636  False\n",
      "  Biography       Drama    9713502.2792    0.9  -79213078.5916     98640083.15  False\n",
      "  Biography      Family   97944798.5583 0.3696  -26345408.3936  222235005.5102  False\n",
      "  Biography     Fantasy  241044153.7268  0.001  130933741.1098  351154566.3437   True\n",
      "  Biography     History   47247798.3141    0.9 -123318712.3098  217814308.9381  False\n",
      "  Biography      Horror    7682178.1387    0.9 -100229652.0355  115594008.3129  False\n",
      "  Biography       Music   -7359862.9919    0.9 -157180049.4752  142460323.4914  False\n",
      "  Biography     Musical  102696785.1562    0.9 -318196829.8795   523590400.192  False\n",
      "  Biography     Mystery    14205862.921    0.9  -96390020.9401   124801746.782  False\n",
      "  Biography     Romance   -9105229.0183    0.9 -112453460.0245    94243001.988  False\n",
      "  Biography      Sci-Fi  386318683.2951  0.001  283331337.6546  489306028.9357   True\n",
      "  Biography       Sport   -35447788.528    0.9 -262441270.1584  191545693.1025  False\n",
      "  Biography    Thriller  103657193.1696 0.0231    6133562.1667  201180824.1725   True\n",
      "  Biography         War  -55504881.5104    0.9 -373903040.6079  262893277.5871  False\n",
      "  Biography     Western   52208213.7277    0.9 -306176422.5561  410592850.0114  False\n",
      "     Comedy       Crime  -74081175.1633 0.0287 -144920546.6718   -3241803.6549   True\n",
      "     Comedy Documentary -169694716.7542 0.0284 -331820888.1412   -7568545.3672   True\n",
      "     Comedy       Drama  -81349879.0136  0.001 -130955410.2374  -31744347.7898   True\n",
      "     Comedy      Family    6881417.2655    0.9  -93122720.0828  106885554.6138  False\n",
      "     Comedy     Fantasy   149980772.434  0.001   68267401.9901  231694142.8779   True\n",
      "     Comedy     History  -43815582.9787    0.9 -197587187.9292  109956021.9718  False\n",
      "     Comedy      Horror  -83381203.1541 0.0242  -162106898.033   -4655508.2752   True\n",
      "     Comedy       Music  -98423244.2847 0.4594 -228802921.4607   31956432.8913  False\n",
      "     Comedy     Musical   11633403.8634    0.9 -402738659.7708  426005467.4977  False\n",
      "     Comedy     Mystery  -76857518.3719 0.1046 -159223903.9283    5508867.1845  False\n",
      "     Comedy     Romance -100168610.3111  0.001 -172512433.7845  -27824786.8377   True\n",
      "     Comedy      Sci-Fi  295255302.0023  0.001  223427972.2127   367082631.792   True\n",
      "     Comedy       Sport -126511169.8208 0.8528 -341170930.0119   88148590.3704  False\n",
      "     Comedy    Thriller   12593811.8768    0.9  -51152800.1635   76340423.9171  False\n",
      "     Comedy         War -146568262.8032    0.9  -456294205.629  163157680.0225  False\n",
      "     Comedy     Western  -38855167.5651    0.9 -389557775.8629  311847440.7326  False\n",
      "      Crime Documentary  -95613541.5909    0.9 -265548562.5218     74321479.34  False\n",
      "      Crime       Drama   -7268703.8502    0.9  -78358257.3596   63820849.6592  False\n",
      "      Crime      Family   80962592.4288 0.5406  -31259702.0449  193184886.9026  False\n",
      "      Crime     Fantasy  224061947.5973  0.001  127780636.8487  320343258.3459   True\n",
      "      Crime     History   30265592.1847    0.9 -131718118.0433  192249302.4127  False\n",
      "      Crime      Horror   -9300027.9908    0.9 -103059032.4881   84458976.5066  False\n",
      "      Crime       Music  -24342069.1214    0.9 -164313052.2239  115628913.9812  False\n",
      "      Crime     Musical   85714579.0268    0.9 -331774610.0676  503203768.1211  False\n",
      "      Crime     Mystery   -2776343.2085    0.9  -99612479.8507   94059793.4337  False\n",
      "      Crime     Romance  -26087435.1477    0.9 -114555761.0329   62380890.7374  False\n",
      "      Crime      Sci-Fi  369336477.1657  0.001  281290005.3745  457382948.9569   True\n",
      "      Crime       Sport  -52429994.6574    0.9 -273046921.7856  168186932.4708  False\n",
      "      Crime    Thriller   86674987.0402 0.0233    5086713.1475  168263260.9328   True\n",
      "      Crime         War  -72487087.6399    0.9 -386371103.7182  241396928.4384  False\n",
      "      Crime     Western   35226007.5982    0.9 -319154205.3892  389606220.5857  False\n",
      "Documentary       Drama   88344837.7406    0.9  -73890804.1851  250580479.6664  False\n",
      "Documentary      Family  176576134.0197 0.0796   -7436154.3467  360588422.3861  False\n",
      "Documentary     Fantasy  319675489.1882  0.001  144927757.6081  494423220.7682   True\n",
      "Documentary     History  125879133.7755 0.8808  -92078204.4173  343836471.9684  False\n",
      "Documentary      Horror   86313513.6001    0.9  -87057273.4929  259684300.6931  False\n",
      "Documentary       Music   71271472.4695    0.9 -130863519.5621   273406464.501  False\n",
      "Documentary     Musical  181328120.6176    0.9 -260897954.9405  623554196.1758  False\n",
      "Documentary     Mystery   92837198.3824    0.9  -82216839.7107  267891236.4754  False\n",
      "Documentary     Romance   69526106.4431    0.9 -101041544.5867  240093757.4729  False\n",
      "Documentary      Sci-Fi  464950018.7565  0.001  294600788.9732  635299248.5399   True\n",
      "Documentary       Sport   43183546.9334    0.9 -221275348.6031    307642442.47  False\n",
      "Documentary    Thriller   182288528.631  0.016   15185789.7855  349391267.4766   True\n",
      "Documentary         War    23126453.951    0.9 -322980255.6667  369233163.5686  False\n",
      "Documentary     Western  130839549.1891    0.9 -252373204.0563  514052302.4345  False\n",
      "      Drama      Family   88231296.2791 0.1746  -11950216.7322  188412809.2904  False\n",
      "      Drama     Fantasy  231330651.4475  0.001  149400297.0497  313261005.8454   True\n",
      "      Drama     History   37534296.0349    0.9 -116352722.7532  191421314.8231  False\n",
      "      Drama      Horror   -2031324.1405    0.9  -80982214.5511     76919566.27  False\n",
      "      Drama       Music  -17073365.2711    0.9 -147589143.1793   113442412.637  False\n",
      "      Drama     Musical    92983282.877    0.9 -321431624.1702  507398189.9242  False\n",
      "      Drama     Mystery    4492360.6417    0.9   -78089293.084   87074014.3675  False\n",
      "      Drama     Romance  -18818731.2975    0.9  -91407551.7673   53770089.1723  False\n",
      "      Drama      Sci-Fi  376605181.0159  0.001  304531098.5232  448679263.5086   True\n",
      "      Drama       Sport  -45161290.8072    0.9 -259903742.8463  169581161.2319  False\n",
      "      Drama    Thriller   93943690.8904  0.001   29919175.2025  157968206.5783   True\n",
      "      Drama         War  -65218383.7897    0.9 -375001643.0561  244564875.4768  False\n",
      "      Drama     Western   42494711.4484    0.9 -308258517.3739  393247940.2708  False\n",
      "     Family     Fantasy  143099355.1685 0.0034   23714675.5377  262484034.7992   True\n",
      "     Family     History  -50697000.2442    0.9 -227392595.2948  125998594.8064  False\n",
      "     Family      Horror  -90262620.4196 0.4214 -207622587.4246   27097346.5853  False\n",
      "     Family       Music -105304661.5502 0.6581 -262067179.5249   51457856.4245  False\n",
      "     Family     Musical    4751986.5979    0.9 -418662507.6529  428166480.8488  False\n",
      "     Family     Mystery  -83738935.6374 0.5942 -203571520.0661   36093648.7913  False\n",
      "     Family     Romance -107050027.5766  0.091 -220228009.6048    6127954.4516  False\n",
      "     Family      Sci-Fi  288373884.7368  0.001  175525348.5215  401222420.9522   True\n",
      "     Family       Sport -133392587.0863 0.8847 -365026866.6447   98241692.4722  False\n",
      "     Family    Thriller    5712394.6113    0.9 -102172995.3534  113597784.5761  False\n",
      "     Family         War -153449680.0687    0.9 -475172831.9875    168273471.85  False\n",
      "     Family     Western  -45736584.8306    0.9 -407078453.8247  315605284.1634  False\n",
      "    Fantasy     History -193796355.4126 0.0061 -360822044.2536  -26770666.5716   True\n",
      "    Fantasy      Horror -233361975.5881  0.001 -335585305.9874 -131138645.1888   True\n",
      "    Fantasy       Music -248404016.7187  0.001 -394180333.2597 -102627700.1776   True\n",
      "    Fantasy     Musical -138347368.5705    0.9 -557818561.1026  281123823.9615  False\n",
      "    Fantasy     Mystery -226838290.8058  0.001  -331891114.249 -121785467.3626   True\n",
      "    Fantasy     Romance  -250149382.745  0.001 -347542929.9569 -152755835.5332   True\n",
      "    Fantasy      Sci-Fi  145274529.5684  0.001   48264017.0016  242285042.1351   True\n",
      "    Fantasy       Sport -276491942.2547  0.002 -500836959.7815  -52146924.7279   True\n",
      "    Fantasy    Thriller -137386960.5571  0.001  -228576350.238  -46197570.8763   True\n",
      "    Fantasy         War -296549035.2372 0.1004 -613064491.2627   19966420.7883  False\n",
      "    Fantasy     Western -188835939.9991    0.9 -545548981.1269  167877101.1287  False\n",
      "    History      Horror  -39565620.1754    0.9 -205150163.1065  126018922.7556  False\n",
      "    History       Music   -54607661.306    0.9  -250105400.536  140890077.9239  False\n",
      "    History     Musical   55448986.8421    0.9 -383782971.1755  494680944.8597  False\n",
      "    History     Mystery  -33041935.3932    0.9 -200388065.5938  134304194.8075  False\n",
      "    History     Romance  -56353027.3324    0.9 -219000297.8852  106294243.2203  False\n",
      "    History      Sci-Fi   339070884.981  0.001  176652686.7142  501489083.2477   True\n",
      "    History       Sport  -82695586.8421    0.9 -342116708.7055  176725535.0212  False\n",
      "    History    Thriller   56409394.8555    0.9 -102600467.6378  215419257.3487  False\n",
      "    History         War -102752679.8246    0.9 -445025473.7811  239520114.1319  False\n",
      "    History     Western    4960415.4135    0.9 -374793222.2127  384714053.0398  False\n",
      "     Horror       Music  -15042041.1306    0.9 -159164886.6102   129080804.349  False\n",
      "     Horror     Musical   95014607.0175    0.9 -323884833.7664  513914047.8015  False\n",
      "     Horror     Mystery    6523684.7822    0.9  -96222389.7815  109269759.3459  False\n",
      "     Horror     Romance   -16787407.157    0.9  -111688214.126    78113399.812  False\n",
      "     Horror      Sci-Fi  378636505.1564  0.001  284128835.2384  473144175.0745   True\n",
      "     Horror       Sport  -43129966.6667    0.9 -266404118.8069  180144185.4736  False\n",
      "     Horror    Thriller   95975015.0309 0.0175     7452899.629  184497130.4329   True\n",
      "     Horror         War  -63187059.6491    0.9 -378944393.7332   252570274.435  False\n",
      "     Horror     Western    44526035.589    0.9 -311514487.1546  400566558.3325  False\n",
      "      Music     Musical  110056648.1481    0.9 -321542548.6485  541655844.9448  False\n",
      "      Music     Mystery   21565725.9129    0.9 -124577631.8719  167709083.6976  False\n",
      "      Music     Romance   -1745366.0264    0.9 -142483734.4613  138993002.4086  False\n",
      "      Music      Sci-Fi   393678546.287  0.001  253204972.7592  534152119.8149   True\n",
      "      Music       Sport  -28087925.5361    0.9 -274365151.8488  218189300.7767  False\n",
      "      Music    Thriller  111017056.1615 0.3064  -25501404.5007  247535516.8238  False\n",
      "      Music         War  -48145018.5185    0.9 -380566165.8817  284276128.8447  False\n",
      "      Music     Western   59568076.7196    0.9 -311330803.0601  430466956.4993  False\n",
      "    Musical     Mystery  -88490922.2353    0.9 -508089811.5624  331107967.0919  False\n",
      "    Musical     Romance -111802014.1745    0.9 -529549109.0175  305945080.6684  False\n",
      "    Musical      Sci-Fi  283621898.1389 0.6408 -134036062.1105  701279858.3883  False\n",
      "    Musical       Sport -138144573.6842    0.9 -602211184.3128  325922036.9444  False\n",
      "    Musical    Thriller     960408.0134    0.9 -415383965.0741  417304781.1008  False\n",
      "    Musical         War -158201666.6667    0.9 -673186293.7326  356782960.3993  False\n",
      "    Musical     Western  -50488571.4286    0.9 -591109812.1524  490132669.2953  False\n",
      "    Mystery     Romance  -23311091.9392    0.9 -121253164.6089   74630980.7304  False\n",
      "    Mystery      Sci-Fi  372112820.3742  0.001   274551628.762  469674011.9864   True\n",
      "    Mystery       Sport  -49653651.4489    0.9 -274237340.6372  174930037.7394  False\n",
      "    Mystery    Thriller   89451330.2487 0.0673    -2323673.705  181226334.2023  False\n",
      "    Mystery         War  -69710744.4314    0.9 -386395414.8267  246973925.9639  False\n",
      "    Mystery     Western   38002350.8067    0.9 -318860844.6491  394865546.2626  False\n",
      "    Romance      Sci-Fi  395423912.3134  0.001  306162535.2575  484685289.3693   True\n",
      "    Romance       Sport  -26342559.5097    0.9 -247447151.8965  194762032.8771  False\n",
      "    Romance    Thriller  112762422.1879  0.001   29864541.1787  195660303.1971   True\n",
      "    Romance         War  -46399652.4921    0.9 -360626621.0809  267827316.0966  False\n",
      "    Romance     Western    61313442.746    0.9 -293370568.1653  415997453.6572  False\n",
      "     Sci-Fi       Sport -421766471.8231  0.001 -642702610.2987 -200830333.3475   True\n",
      "     Sci-Fi    Thriller -282661490.1255  0.001 -365109020.0205 -200213960.2306   True\n",
      "     Sci-Fi         War -441823564.8056  0.001 -755932024.2562 -127715105.3549   True\n",
      "     Sci-Fi     Western -334110469.5675 0.0947 -688689493.3492   20468554.2143  False\n",
      "      Sport    Thriller  139104981.6976 0.7407  -79337785.4667  357547748.8619  False\n",
      "      Sport         War  -20057092.9825    0.9 -393666209.0906  353552023.1256  False\n",
      "      Sport     Western   87656002.2556    0.9 -320566892.0639  495878896.5752  False\n",
      "   Thriller         War   -159162074.68    0.9 -471521786.4554  153197637.0953  False\n",
      "   Thriller     Western  -51448979.4419    0.9 -404479784.5397  301581825.6558  False\n",
      "        War     Western  107713095.2381    0.9 -357579585.1907  573005775.6669  False\n",
      "-------------------------------------------------------------------------------------\n"
     ]
    }
   ],
   "source": [
    "# Check the significance\n",
    "print(pairwise_tukeyhsd(genre_revenue['totalgross'], genre_revenue['genre']))"
   ]
  },
  {
   "attachments": {},
   "cell_type": "markdown",
   "metadata": {},
   "source": [
    "**Observations**\n",
    "With a 95% confidence level we can conclude:\n",
    "- Sci-Fi is not greater than Adventure\n",
    "- Adventure is not greater than Animation\n",
    "- Sci-Fi & Adventure > (Action & Fantasy)\n",
    "- Top 5 are > Thriller"
   ]
  },
  {
   "attachments": {},
   "cell_type": "markdown",
   "metadata": {},
   "source": [
    "### Runtime"
   ]
  },
  {
   "attachments": {},
   "cell_type": "markdown",
   "metadata": {},
   "source": [
    "We need to start feature engineering for runtime. Instead of trying to optimize runtime for gross revenue we will instead categorize runtime and compare revenue among the newly created categories"
   ]
  },
  {
   "cell_type": "code",
   "execution_count": 249,
   "metadata": {},
   "outputs": [],
   "source": [
    "# Create a function to categorize runtimes\n",
    "def film_categorization(runtime):\n",
    "    \"\"\"\n",
    "    Input: the movie runtime (float)\n",
    "    Output: the movie runtime category (string)\n",
    "    \"\"\"\n",
    "    movie_category = ''\n",
    "    if runtime < 40: # The movie industry considers this a short film\n",
    "        movie_category =  'Short Film'\n",
    "    elif runtime < 96: # This is outside the common hollywood length\n",
    "        movie_category =  'Normal Film (short)'\n",
    "    elif (runtime >= 96) and (runtime <= 120): # 50% of hollywood movies are in this range\n",
    "        movie_category =  'Normal Film (optimal)'\n",
    "    elif (runtime > 120): # These are longer than the common range\n",
    "        movie_category =  'Normal Film (long)'\n",
    "    else: # if no runtime exists\n",
    "        movie_category =  'No Runtime'\n",
    "    return movie_category"
   ]
  },
  {
   "cell_type": "code",
   "execution_count": 250,
   "metadata": {},
   "outputs": [
    {
     "data": {
      "text/plain": [
       "Normal Film (optimal)    77773\n",
       "Normal Film (short)      74940\n",
       "Normal Film (long)       26001\n",
       "Short Film                  50\n",
       "Name: runtimecategory, dtype: int64"
      ]
     },
     "execution_count": 250,
     "metadata": {},
     "output_type": "execute_result"
    }
   ],
   "source": [
    "# Add a new column categorizing the runtime\n",
    "df_clean['runtimecategory'] = df_clean['runtimeminutes'].apply(film_categorization)\n",
    "df_clean['runtimecategory'].value_counts()"
   ]
  },
  {
   "cell_type": "code",
   "execution_count": 251,
   "metadata": {},
   "outputs": [
    {
     "data": {
      "image/png": "[encoded data removed]",
      "text/plain": [
       "<Figure size 1152x1152 with 2 Axes>"
      ]
     },
     "metadata": {},
     "output_type": "display_data"
    }
   ],
   "source": [
    "# Visualize the distributions\n",
    "fig, (ax0,ax1) = plt.subplots(nrows=2, figsize=(16, 16))\n",
    "\n",
    "data = df_clean[has_rev_filter & usa_filter]\n",
    "\n",
    "sns.boxplot(\n",
    "    x=\"runtimecategory\",\n",
    "    y=\"totalgross\",\n",
    "    data=data,\n",
    "    ax=ax0,\n",
    "    color='aqua', \n",
    "    linewidth=3\n",
    ")\n",
    "\n",
    "\n",
    "\n",
    "sns.violinplot(\n",
    "    x=\"runtimecategory\",\n",
    "    y=\"totalgross\",\n",
    "    data=data,\n",
    "    ax=ax1,\n",
    "    color='aqua',\n",
    "    inner=\"quartile\",\n",
    "    bw=.3 \n",
    ")\n",
    "\n",
    "plt.tight_layout();"
   ]
  },
  {
   "cell_type": "code",
   "execution_count": 252,
   "metadata": {},
   "outputs": [
    {
     "name": "stdout",
     "output_type": "stream",
     "text": [
      "                           Multiple Comparison of Means - Tukey HSD, FWER=0.05                           \n",
      "=========================================================================================================\n",
      "        group1                group2            meandiff    p-adj       lower           upper      reject\n",
      "---------------------------------------------------------------------------------------------------------\n",
      "   Normal Film (long) Normal Film (optimal) -263863989.0305  0.001  -298872875.071 -228855102.9899   True\n",
      "   Normal Film (long)   Normal Film (short) -292960291.0818  0.001 -334961328.3142 -250959253.8493   True\n",
      "Normal Film (optimal)   Normal Film (short)  -29096302.0513 0.1512  -65807592.1989    7614988.0963  False\n",
      "---------------------------------------------------------------------------------------------------------\n"
     ]
    }
   ],
   "source": [
    "# Check for significant differences between the four categories\n",
    "print(pairwise_tukeyhsd(data['totalgross'], data['runtimecategory']))"
   ]
  },
  {
   "attachments": {},
   "cell_type": "markdown",
   "metadata": {},
   "source": [
    "**Observations**\n",
    "- Long > Normal & Short\n",
    "- There is significant left skew, we may want to use median for barcharts"
   ]
  },
  {
   "cell_type": "code",
   "execution_count": 253,
   "metadata": {},
   "outputs": [
    {
     "data": {
      "image/png": "[encoded data removed]",
      "text/plain": [
       "<Figure size 432x288 with 1 Axes>"
      ]
     },
     "metadata": {},
     "output_type": "display_data"
    }
   ],
   "source": [
    "df_clean['totalgross'].hist();"
   ]
  },
  {
   "attachments": {},
   "cell_type": "markdown",
   "metadata": {},
   "source": [
    "There are significant number of ourliers so we should use the median not the mean"
   ]
  },
  {
   "cell_type": "code",
   "execution_count": 254,
   "metadata": {},
   "outputs": [
    {
     "data": {
      "text/html": [
       "<div>\n",
       "<style scoped>\n",
       "    .dataframe tbody tr th:only-of-type {\n",
       "        vertical-align: middle;\n",
       "    }\n",
       "\n",
       "    .dataframe tbody tr th {\n",
       "        vertical-align: top;\n",
       "    }\n",
       "\n",
       "    .dataframe thead th {\n",
       "        text-align: right;\n",
       "    }\n",
       "</style>\n",
       "<table border=\"1\" class=\"dataframe\">\n",
       "  <thead>\n",
       "    <tr style=\"text-align: right;\">\n",
       "      <th></th>\n",
       "      <th>runtimecategory</th>\n",
       "      <th>totalgross</th>\n",
       "    </tr>\n",
       "  </thead>\n",
       "  <tbody>\n",
       "    <tr>\n",
       "      <th>0</th>\n",
       "      <td>Normal Film (long)</td>\n",
       "      <td>312300000.000</td>\n",
       "    </tr>\n",
       "    <tr>\n",
       "      <th>1</th>\n",
       "      <td>Normal Film (optimal)</td>\n",
       "      <td>93200000.000</td>\n",
       "    </tr>\n",
       "    <tr>\n",
       "      <th>2</th>\n",
       "      <td>Normal Film (short)</td>\n",
       "      <td>54750000.000</td>\n",
       "    </tr>\n",
       "  </tbody>\n",
       "</table>\n",
       "</div>"
      ],
      "text/plain": [
       "         runtimecategory    totalgross\n",
       "0     Normal Film (long) 312300000.000\n",
       "1  Normal Film (optimal)  93200000.000\n",
       "2    Normal Film (short)  54750000.000"
      ]
     },
     "execution_count": 254,
     "metadata": {},
     "output_type": "execute_result"
    }
   ],
   "source": [
    "# Create data for barplot\n",
    "data = df_clean[has_rev_filter & usa_filter].groupby('runtimecategory').median().reset_index().sort_values('totalgross', ascending=False)\n",
    "data[['runtimecategory', 'totalgross']]"
   ]
  },
  {
   "cell_type": "code",
   "execution_count": 263,
   "metadata": {},
   "outputs": [
    {
     "data": {
      "image/png": "[encoded data removed]",
      "text/plain": [
       "<Figure size 1008x576 with 1 Axes>"
      ]
     },
     "metadata": {},
     "output_type": "display_data"
    }
   ],
   "source": [
    "fig, ax = plt.subplots(figsize=(14,8))\n",
    "\n",
    "n_colors = len(data['runtimecategory'].value_counts()) # figure out the number of colors needed\n",
    "\n",
    "sns.barplot(data=data, \n",
    "            x='runtimecategory', \n",
    "            y='totalgross', \n",
    "            ax=ax, \n",
    "            palette=reversed(sns.color_palette(\"Blues\", n_colors))\n",
    "            )\n",
    "ax.set_xlabel('Movie Length Category')\n",
    "ax.set_ylabel('Median Revenue')\n",
    "ax.set_title('Movie Length Revenues')\n",
    "fig.savefig('images/runtime_revenue.png', dpi='figure', bbox_inches='tight');"
   ]
  },
  {
   "cell_type": "code",
   "execution_count": 256,
   "metadata": {},
   "outputs": [
    {
     "data": {
      "text/html": [
       "<div>\n",
       "<style scoped>\n",
       "    .dataframe tbody tr th:only-of-type {\n",
       "        vertical-align: middle;\n",
       "    }\n",
       "\n",
       "    .dataframe tbody tr th {\n",
       "        vertical-align: top;\n",
       "    }\n",
       "\n",
       "    .dataframe thead th {\n",
       "        text-align: right;\n",
       "    }\n",
       "</style>\n",
       "<table border=\"1\" class=\"dataframe\">\n",
       "  <thead>\n",
       "    <tr style=\"text-align: right;\">\n",
       "      <th></th>\n",
       "      <th>domesticgross</th>\n",
       "      <th>foreigngross</th>\n",
       "    </tr>\n",
       "    <tr>\n",
       "      <th>runtimecategory</th>\n",
       "      <th></th>\n",
       "      <th></th>\n",
       "    </tr>\n",
       "  </thead>\n",
       "  <tbody>\n",
       "    <tr>\n",
       "      <th>Normal Film (long)</th>\n",
       "      <td>115650000.000</td>\n",
       "      <td>195500000.000</td>\n",
       "    </tr>\n",
       "    <tr>\n",
       "      <th>Normal Film (optimal)</th>\n",
       "      <td>44700000.000</td>\n",
       "      <td>45200000.000</td>\n",
       "    </tr>\n",
       "    <tr>\n",
       "      <th>Normal Film (short)</th>\n",
       "      <td>30850000.000</td>\n",
       "      <td>23600000.000</td>\n",
       "    </tr>\n",
       "  </tbody>\n",
       "</table>\n",
       "</div>"
      ],
      "text/plain": [
       "                       domesticgross  foreigngross\n",
       "runtimecategory                                   \n",
       "Normal Film (long)     115650000.000 195500000.000\n",
       "Normal Film (optimal)   44700000.000  45200000.000\n",
       "Normal Film (short)     30850000.000  23600000.000"
      ]
     },
     "execution_count": 256,
     "metadata": {},
     "output_type": "execute_result"
    }
   ],
   "source": [
    "df_clean[has_rev_filter & usa_filter][['runtimecategory', 'domesticgross', 'foreigngross']].groupby('runtimecategory').median()"
   ]
  },
  {
   "cell_type": "code",
   "execution_count": 257,
   "metadata": {},
   "outputs": [
    {
     "data": {
      "text/html": [
       "<div>\n",
       "<style scoped>\n",
       "    .dataframe tbody tr th:only-of-type {\n",
       "        vertical-align: middle;\n",
       "    }\n",
       "\n",
       "    .dataframe tbody tr th {\n",
       "        vertical-align: top;\n",
       "    }\n",
       "\n",
       "    .dataframe thead th {\n",
       "        text-align: right;\n",
       "    }\n",
       "</style>\n",
       "<table border=\"1\" class=\"dataframe\">\n",
       "  <thead>\n",
       "    <tr style=\"text-align: right;\">\n",
       "      <th></th>\n",
       "      <th>runtimecategory</th>\n",
       "      <th>grossloc</th>\n",
       "      <th>gross</th>\n",
       "    </tr>\n",
       "  </thead>\n",
       "  <tbody>\n",
       "    <tr>\n",
       "      <th>1</th>\n",
       "      <td>Normal Film (long)</td>\n",
       "      <td>foreigngross</td>\n",
       "      <td>195500000.000</td>\n",
       "    </tr>\n",
       "    <tr>\n",
       "      <th>0</th>\n",
       "      <td>Normal Film (long)</td>\n",
       "      <td>domesticgross</td>\n",
       "      <td>115650000.000</td>\n",
       "    </tr>\n",
       "    <tr>\n",
       "      <th>3</th>\n",
       "      <td>Normal Film (optimal)</td>\n",
       "      <td>foreigngross</td>\n",
       "      <td>45200000.000</td>\n",
       "    </tr>\n",
       "    <tr>\n",
       "      <th>2</th>\n",
       "      <td>Normal Film (optimal)</td>\n",
       "      <td>domesticgross</td>\n",
       "      <td>44700000.000</td>\n",
       "    </tr>\n",
       "    <tr>\n",
       "      <th>4</th>\n",
       "      <td>Normal Film (short)</td>\n",
       "      <td>domesticgross</td>\n",
       "      <td>30850000.000</td>\n",
       "    </tr>\n",
       "    <tr>\n",
       "      <th>5</th>\n",
       "      <td>Normal Film (short)</td>\n",
       "      <td>foreigngross</td>\n",
       "      <td>23600000.000</td>\n",
       "    </tr>\n",
       "  </tbody>\n",
       "</table>\n",
       "</div>"
      ],
      "text/plain": [
       "         runtimecategory       grossloc         gross\n",
       "1     Normal Film (long)   foreigngross 195500000.000\n",
       "0     Normal Film (long)  domesticgross 115650000.000\n",
       "3  Normal Film (optimal)   foreigngross  45200000.000\n",
       "2  Normal Film (optimal)  domesticgross  44700000.000\n",
       "4    Normal Film (short)  domesticgross  30850000.000\n",
       "5    Normal Film (short)   foreigngross  23600000.000"
      ]
     },
     "execution_count": 257,
     "metadata": {},
     "output_type": "execute_result"
    }
   ],
   "source": [
    "# Create data for plotting comparing domestic vs. foreign revenue\n",
    "data = df_clean[has_rev_filter & usa_filter][['runtimecategory', 'domesticgross', 'foreigngross']]\n",
    "\n",
    "data_for_plot = pd.melt(data, id_vars=['runtimecategory'], value_vars=['domesticgross', 'foreigngross'], var_name='grossloc', value_name='gross')\n",
    "\n",
    "data_for_plot = data_for_plot.groupby(['runtimecategory', 'grossloc']).median().reset_index().sort_values(by='gross', ascending=False)\n",
    "\n",
    "data_for_plot\n"
   ]
  },
  {
   "attachments": {},
   "cell_type": "markdown",
   "metadata": {},
   "source": [
    "Let's break that down by foreign and domestic markets to see the influence"
   ]
  },
  {
   "cell_type": "code",
   "execution_count": 264,
   "metadata": {},
   "outputs": [
    {
     "data": {
      "image/png": "[encoded data removed]",
      "text/plain": [
       "<Figure size 1008x576 with 1 Axes>"
      ]
     },
     "metadata": {},
     "output_type": "display_data"
    }
   ],
   "source": [
    "fig, ax = plt.subplots(figsize=(14,8))\n",
    "\n",
    "sns.barplot(data=data_for_plot, \n",
    "            x='runtimecategory', \n",
    "            y='gross', \n",
    "            ax=ax, \n",
    "            hue='grossloc',\n",
    "            palette=reversed(sns.color_palette(\"Blues\", 2))\n",
    "            )\n",
    "ax.set_xlabel('Movie Length Category')\n",
    "ax.set_ylabel('Median Revenue')\n",
    "ax.set_title('Foreign vs. Domestic Gross Revenue')\n",
    "fig.savefig('images/foreign_vs_domestic_gross.png', dpi='figure', bbox_inches='tight');"
   ]
  },
  {
   "attachments": {},
   "cell_type": "markdown",
   "metadata": {},
   "source": [
    "**Observations**\n",
    "- Foreign markets outperform domestic for long movies"
   ]
  },
  {
   "attachments": {},
   "cell_type": "markdown",
   "metadata": {},
   "source": [
    "### Revenue vs. Rating\n",
    "Todo:\n",
    "- Plot revenue vs. rating and investigate trends\n",
    "- Run a linear regresion model to explore the relationship"
   ]
  },
  {
   "cell_type": "code",
   "execution_count": 259,
   "metadata": {},
   "outputs": [
    {
     "data": {
      "image/png": "[encoded data removed]",
      "text/plain": [
       "<Figure size 720x576 with 1 Axes>"
      ]
     },
     "metadata": {},
     "output_type": "display_data"
    }
   ],
   "source": [
    "# Plot revenue vs. rating\n",
    "fig, ax = plt.subplots(figsize=(10, 8))\n",
    "sns.scatterplot(data=df_clean[has_rev_filter & usa_filter], x='averagerating', y='totalgross', ax=ax);"
   ]
  },
  {
   "attachments": {},
   "cell_type": "markdown",
   "metadata": {},
   "source": [
    "**Observations**\n",
    "- It looks like there is a slight upwards trend\n",
    "- There seems to be a lot of spread"
   ]
  },
  {
   "cell_type": "code",
   "execution_count": 260,
   "metadata": {},
   "outputs": [
    {
     "name": "stdout",
     "output_type": "stream",
     "text": [
      "The correlation coefficient is: 0.3553\n"
     ]
    }
   ],
   "source": [
    "# We also need to find the correlation coefficient\n",
    "num_ratings_filter = df_clean['numvotes'] >= 30 # Only include movies with over 30 votes\n",
    "filter_for_ratings = has_rev_filter & usa_filter & num_ratings_filter\n",
    "x = df_clean[filter_for_ratings]['totalgross']\n",
    "y = df_clean[filter_for_ratings]['averagerating']\n",
    "coer_data = np.corrcoef(x, y)\n",
    "print(f'The correlation coefficient is: {round(coer_data[0,1],4)}')"
   ]
  },
  {
   "cell_type": "code",
   "execution_count": 261,
   "metadata": {},
   "outputs": [
    {
     "data": {
      "text/html": [
       "<table class=\"simpletable\">\n",
       "<caption>OLS Regression Results</caption>\n",
       "<tr>\n",
       "  <th>Dep. Variable:</th>       <td>totalgross</td>    <th>  R-squared:         </th> <td>   0.126</td> \n",
       "</tr>\n",
       "<tr>\n",
       "  <th>Model:</th>                   <td>OLS</td>       <th>  Adj. R-squared:    </th> <td>   0.126</td> \n",
       "</tr>\n",
       "<tr>\n",
       "  <th>Method:</th>             <td>Least Squares</td>  <th>  F-statistic:       </th> <td>   252.2</td> \n",
       "</tr>\n",
       "<tr>\n",
       "  <th>Date:</th>             <td>Fri, 12 May 2023</td> <th>  Prob (F-statistic):</th> <td>3.84e-53</td> \n",
       "</tr>\n",
       "<tr>\n",
       "  <th>Time:</th>                 <td>11:34:45</td>     <th>  Log-Likelihood:    </th> <td> -36369.</td> \n",
       "</tr>\n",
       "<tr>\n",
       "  <th>No. Observations:</th>      <td>  1747</td>      <th>  AIC:               </th> <td>7.274e+04</td>\n",
       "</tr>\n",
       "<tr>\n",
       "  <th>Df Residuals:</th>          <td>  1745</td>      <th>  BIC:               </th> <td>7.275e+04</td>\n",
       "</tr>\n",
       "<tr>\n",
       "  <th>Df Model:</th>              <td>     1</td>      <th>                     </th>     <td> </td>    \n",
       "</tr>\n",
       "<tr>\n",
       "  <th>Covariance Type:</th>      <td>nonrobust</td>    <th>                     </th>     <td> </td>    \n",
       "</tr>\n",
       "</table>\n",
       "<table class=\"simpletable\">\n",
       "<tr>\n",
       "        <td></td>           <th>coef</th>     <th>std err</th>      <th>t</th>      <th>P>|t|</th>  <th>[0.025</th>    <th>0.975]</th>  \n",
       "</tr>\n",
       "<tr>\n",
       "  <th>const</th>         <td>-4.125e+08</td> <td> 4.08e+07</td> <td>  -10.115</td> <td> 0.000</td> <td>-4.93e+08</td> <td>-3.33e+08</td>\n",
       "</tr>\n",
       "<tr>\n",
       "  <th>averagerating</th> <td> 9.961e+07</td> <td> 6.27e+06</td> <td>   15.880</td> <td> 0.000</td> <td> 8.73e+07</td> <td> 1.12e+08</td>\n",
       "</tr>\n",
       "</table>\n",
       "<table class=\"simpletable\">\n",
       "<tr>\n",
       "  <th>Omnibus:</th>       <td>485.230</td> <th>  Durbin-Watson:     </th> <td>   0.863</td> \n",
       "</tr>\n",
       "<tr>\n",
       "  <th>Prob(Omnibus):</th> <td> 0.000</td>  <th>  Jarque-Bera (JB):  </th> <td>1119.187</td> \n",
       "</tr>\n",
       "<tr>\n",
       "  <th>Skew:</th>          <td> 1.543</td>  <th>  Prob(JB):          </th> <td>9.37e-244</td>\n",
       "</tr>\n",
       "<tr>\n",
       "  <th>Kurtosis:</th>      <td> 5.418</td>  <th>  Cond. No.          </th> <td>    42.6</td> \n",
       "</tr>\n",
       "</table><br/><br/>Notes:<br/>[1] Standard Errors assume that the covariance matrix of the errors is correctly specified."
      ],
      "text/plain": [
       "<class 'statsmodels.iolib.summary.Summary'>\n",
       "\"\"\"\n",
       "                            OLS Regression Results                            \n",
       "==============================================================================\n",
       "Dep. Variable:             totalgross   R-squared:                       0.126\n",
       "Model:                            OLS   Adj. R-squared:                  0.126\n",
       "Method:                 Least Squares   F-statistic:                     252.2\n",
       "Date:                Fri, 12 May 2023   Prob (F-statistic):           3.84e-53\n",
       "Time:                        11:34:45   Log-Likelihood:                -36369.\n",
       "No. Observations:                1747   AIC:                         7.274e+04\n",
       "Df Residuals:                    1745   BIC:                         7.275e+04\n",
       "Df Model:                           1                                         \n",
       "Covariance Type:            nonrobust                                         \n",
       "=================================================================================\n",
       "                    coef    std err          t      P>|t|      [0.025      0.975]\n",
       "---------------------------------------------------------------------------------\n",
       "const         -4.125e+08   4.08e+07    -10.115      0.000   -4.93e+08   -3.33e+08\n",
       "averagerating  9.961e+07   6.27e+06     15.880      0.000    8.73e+07    1.12e+08\n",
       "==============================================================================\n",
       "Omnibus:                      485.230   Durbin-Watson:                   0.863\n",
       "Prob(Omnibus):                  0.000   Jarque-Bera (JB):             1119.187\n",
       "Skew:                           1.543   Prob(JB):                    9.37e-244\n",
       "Kurtosis:                       5.418   Cond. No.                         42.6\n",
       "==============================================================================\n",
       "\n",
       "Notes:\n",
       "[1] Standard Errors assume that the covariance matrix of the errors is correctly specified.\n",
       "\"\"\""
      ]
     },
     "execution_count": 261,
     "metadata": {},
     "output_type": "execute_result"
    }
   ],
   "source": [
    "# Let's run a simple linear regression model\n",
    "endog = df_clean[filter_for_ratings]['totalgross'] # Revenue is independant\n",
    "exog = sm.add_constant(df_clean[filter_for_ratings]['averagerating']) # Rating is dependant\n",
    "lin_reg_model = sm.OLS(endog, exog)\n",
    "lin_reg_model.fit()\n",
    "results = lin_reg_model.fit()\n",
    "results.summary()"
   ]
  },
  {
   "attachments": {},
   "cell_type": "markdown",
   "metadata": {},
   "source": [
    "**Observations**\n",
    "- There is a loose relationship between ratings and revenue (r-squared = 0.126)\n",
    "- There is a confirmed positive relationship with a 95% confidence level \n",
    "- The best fit line has a slope between [8.73e+07, 1.12e+08]"
   ]
  },
  {
   "cell_type": "code",
   "execution_count": 262,
   "metadata": {},
   "outputs": [
    {
     "data": {
      "image/png": "[encoded data removed]",
      "text/plain": [
       "<Figure size 864x576 with 1 Axes>"
      ]
     },
     "metadata": {},
     "output_type": "display_data"
    }
   ],
   "source": [
    "# Plot revenue vs. rating\n",
    "fig, ax = plt.subplots(figsize=(12, 8))\n",
    "data = df_clean[filter_for_ratings]\n",
    "\n",
    "# Create the line of best fit\n",
    "data_length = len(data)\n",
    "x = data['averagerating'] # Create the x for the line (millions)\n",
    "y = results.params.const + results.params.averagerating * x # Create the c for the line\n",
    "label = f'y = {round(results.params.const)} + {round(results.params.averagerating)}x'\n",
    "\n",
    "# Plot both the data and the new line\n",
    "sns.lineplot(x=x, y=y, ax=ax, color='#17262a', label=label)\n",
    "sns.scatterplot(data=data, x='averagerating', y='totalgross', ax=ax, color='#46656f')\n",
    "ax.set_xlabel('Average Rating')\n",
    "ax.set_ylabel('Gross Revenue')\n",
    "ax.set_title('Gross Revue vs. Average Rating') # comment out for presentation\n",
    "fig.savefig('images/rev_vs_rating.png', dpi='figure', bbox_inches='tight');"
   ]
  },
  {
   "attachments": {},
   "cell_type": "markdown",
   "metadata": {},
   "source": [
    "# Conclusion\n",
    "We found the following three business recommendations:\n",
    "- Longer films tend to gross more\n",
    "- Foreign markets make up a significant portion of movies gross revenue\n",
    "- The genres that gross the most include: Action, Adventure, Animation, Sci-Fi, & Fantasy\n",
    "\n",
    "Next steps to improve the analysis include:\n",
    "- Calculate ROI: Find the cost to create the movies as well\n",
    "- Explore international markets, convert currencies to USD to compare\n",
    "- Include data from post COVID-19 pandemic (2019-2023) to see if there were any significant effects on the industry\n",
    "- Take launch date into account, movies that have been out for longer may gross more and inflation affects comparrisons"
   ]
  },
  {
   "cell_type": "code",
   "execution_count": null,
   "metadata": {},
   "outputs": [],
   "source": []
  }
 ],
 "metadata": {
  "kernelspec": {
   "display_name": "learn-env",
   "language": "python",
   "name": "python3"
  },
  "language_info": {
   "codemirror_mode": {
    "name": "ipython",
    "version": 3
   },
   "file_extension": ".py",
   "mimetype": "text/x-python",
   "name": "python",
   "nbconvert_exporter": "python",
   "pygments_lexer": "ipython3",
   "version": "3.8.5"
  }
 },
 "nbformat": 4,
 "nbformat_minor": 2
}
